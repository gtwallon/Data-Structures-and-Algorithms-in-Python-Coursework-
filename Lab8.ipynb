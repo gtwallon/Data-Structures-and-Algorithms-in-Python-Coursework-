{
 "cells": [
  {
   "cell_type": "markdown",
   "id": "41eb04b9-e44b-4741-af45-cf58425d96aa",
   "metadata": {},
   "source": [
    "# Lab 8\n",
    "**Important**: Before uploading to Gradescope, be sure to comment out any code that might cause a `StopIteration` error.\n",
    "___"
   ]
  },
  {
   "cell_type": "markdown",
   "id": "be90476d-5da4-4d07-9102-f4c4ee9f8951",
   "metadata": {
    "tags": []
   },
   "source": [
    "### Generator 1\n",
    "**Create a generator function** called **`seq1(n)`** that returns the `n` terms in the finite sequence $a_1 = 1$, $a_n = 2a_{n-1}+5$, one at a time.\n",
    "```\n",
    "seq1_gen = seq1(10)\n",
    "print(next(seq1_gen))\n",
    "print(next(seq1_gen))\n",
    "print(next(seq1_gen))\n",
    "print(next(seq1_gen))\n",
    "```\n",
    "displays\n",
    "```\n",
    "1\n",
    "7\n",
    "19\n",
    "43\n",
    "```"
   ]
  },
  {
   "cell_type": "code",
   "execution_count": 5,
   "id": "fca3df95-aa93-43d2-bebd-6cfa7bf68b1e",
   "metadata": {},
   "outputs": [],
   "source": [
    "def seq1(n):\n",
    "    term = 1\n",
    "    count = 1\n",
    "    while count<=n:\n",
    "        yield term\n",
    "        count += 1\n",
    "        term = 2*term +5"
   ]
  },
  {
   "cell_type": "code",
   "execution_count": 6,
   "id": "c9b492b1",
   "metadata": {},
   "outputs": [
    {
     "name": "stdout",
     "output_type": "stream",
     "text": [
      "1\n",
      "7\n",
      "19\n",
      "43\n"
     ]
    }
   ],
   "source": [
    "seq1_gen = seq1(10)\n",
    "print(next(seq1_gen))\n",
    "print(next(seq1_gen))\n",
    "print(next(seq1_gen))\n",
    "print(next(seq1_gen))"
   ]
  },
  {
   "cell_type": "markdown",
   "id": "b6d1ea27-f45c-4e7f-9018-64d0669117f2",
   "metadata": {
    "tags": []
   },
   "source": [
    "### Generator 2\n",
    "**Create a generator function** called **`seq2()`** that returns the terms in the infinite sequence $a_1 = 1$, $a_n = \\left(a_{n-1}^2 - 2a_{n-1}+10 \\right) \\pmod {2003}$, one at a time.\n",
    "\n",
    "$$\\{1, 9, 73, 1187, \\ldots \\}$$"
   ]
  },
  {
   "cell_type": "code",
   "execution_count": 2,
   "id": "0e6b08e2",
   "metadata": {},
   "outputs": [],
   "source": [
    "def seq2():\n",
    "    term = 1\n",
    "    while True:\n",
    "        yield term\n",
    "        term = (term**2 - 2*term + 10) % 2003"
   ]
  },
  {
   "cell_type": "code",
   "execution_count": 3,
   "id": "9dc834a0-f5c8-4015-acb8-de5e1b5a8197",
   "metadata": {},
   "outputs": [
    {
     "name": "stdout",
     "output_type": "stream",
     "text": [
      "1\n",
      "9\n",
      "73\n",
      "1187\n"
     ]
    }
   ],
   "source": [
    "seq2_gen = seq2()\n",
    "print(next(seq2_gen))\n",
    "print(next(seq2_gen))\n",
    "print(next(seq2_gen))\n",
    "print(next(seq2_gen))"
   ]
  },
  {
   "cell_type": "markdown",
   "id": "6adf40da-b6ed-4e4b-b90a-03733e2ed650",
   "metadata": {
    "tags": []
   },
   "source": [
    "### Generator 3\n",
    "**Create a generator function** called **`seq3()`** that returns the terms in the infinite sequence $a_1 = 1$, $a_2 = 2$, $a_n = a_{n-1} + 3a_{n-2}$, one at a time. \n",
    "\n",
    "$$\\{1, 2, 5, 11, 26, \\ldots \\}$$"
   ]
  },
  {
   "cell_type": "code",
   "execution_count": 5,
   "id": "5d249233-3356-4527-b144-c48a47d1eec4",
   "metadata": {},
   "outputs": [],
   "source": [
    "def seq3():\n",
    "    term1 = 1\n",
    "    yield term1\n",
    "    term2 = 2\n",
    "    yield term2\n",
    "    while True:\n",
    "        term3 = term2 + 3*term1\n",
    "        yield term3\n",
    "        term1 = term2\n",
    "        term2 = term3"
   ]
  },
  {
   "cell_type": "code",
   "execution_count": 7,
   "id": "10882ef1",
   "metadata": {},
   "outputs": [
    {
     "name": "stdout",
     "output_type": "stream",
     "text": [
      "1\n",
      "2\n",
      "5\n",
      "11\n",
      "26\n"
     ]
    }
   ],
   "source": [
    "seq3_gen = seq3()\n",
    "print(next(seq3_gen))\n",
    "print(next(seq3_gen))\n",
    "print(next(seq3_gen))\n",
    "print(next(seq3_gen))\n",
    "print(next(seq3_gen))"
   ]
  },
  {
   "cell_type": "markdown",
   "id": "90bd0b66-ed7d-40d5-a03b-0f9bd30eab8c",
   "metadata": {
    "tags": []
   },
   "source": [
    "### Generator 4\n",
    "**Create a generator function** called **`flatland_row()`** that returns the lines in `flatland.txt`, one at a time."
   ]
  },
  {
   "cell_type": "code",
   "execution_count": 8,
   "id": "72fd239d-eb51-4565-8962-2a426b0356c9",
   "metadata": {},
   "outputs": [],
   "source": [
    "def flatland_row():\n",
    "    for row in open('flatland.txt'):\n",
    "        yield row"
   ]
  },
  {
   "cell_type": "code",
   "execution_count": 14,
   "id": "8cd17499",
   "metadata": {},
   "outputs": [],
   "source": [
    "f_row = flatland_row()"
   ]
  },
  {
   "cell_type": "code",
   "execution_count": 15,
   "id": "f2d96a38",
   "metadata": {},
   "outputs": [
    {
     "name": "stdout",
     "output_type": "stream",
     "text": [
      "Flatland:  A Romance of Many Dimensions\n",
      "\n",
      "\n",
      "\n",
      "Edwin A. Abbott (1838-1926.  English scholar, theologian, and writer.)\n",
      "\n",
      "\n",
      "\n",
      "\n",
      "\n",
      "\n",
      "\n",
      "  -----------------------------------------------------------------\n",
      "\n",
      "  |        \"O day and night, but this is wondrous strange\"        |\n",
      "\n",
      "  |        ______                                                 |\n",
      "\n",
      "  |       /       /     /|   ------  /     /|      /|    /  /-.   |\n",
      "\n"
     ]
    }
   ],
   "source": [
    "for _ in range(10):\n",
    "    print(next(f_row))"
   ]
  },
  {
   "cell_type": "code",
   "execution_count": 16,
   "id": "89af6409",
   "metadata": {},
   "outputs": [
    {
     "data": {
      "text/plain": [
       "'  |     /----   /     /__|    /    /     /__|    /  |  /  /   /   |\\n'"
      ]
     },
     "execution_count": 16,
     "metadata": {},
     "output_type": "execute_result"
    }
   ],
   "source": [
    "next(f_row)"
   ]
  },
  {
   "cell_type": "code",
   "execution_count": 84,
   "id": "ffcd03dc",
   "metadata": {},
   "outputs": [
    {
     "data": {
      "text/plain": [
       "'  14.  How I vainly tried to explain the nature of Flatland\\n'"
      ]
     },
     "execution_count": 84,
     "metadata": {},
     "output_type": "execute_result"
    }
   ],
   "source": [
    "next(f_row)"
   ]
  },
  {
   "cell_type": "code",
   "execution_count": null,
   "id": "b51d624a",
   "metadata": {},
   "outputs": [],
   "source": []
  },
  {
   "cell_type": "code",
   "execution_count": null,
   "id": "44714502",
   "metadata": {},
   "outputs": [],
   "source": []
  },
  {
   "cell_type": "code",
   "execution_count": null,
   "id": "fad11181",
   "metadata": {},
   "outputs": [],
   "source": []
  },
  {
   "cell_type": "code",
   "execution_count": null,
   "id": "eb8eab03",
   "metadata": {},
   "outputs": [],
   "source": []
  },
  {
   "cell_type": "code",
   "execution_count": null,
   "id": "634ae1e5",
   "metadata": {},
   "outputs": [],
   "source": []
  },
  {
   "cell_type": "code",
   "execution_count": null,
   "id": "ce37b011",
   "metadata": {},
   "outputs": [],
   "source": []
  },
  {
   "cell_type": "code",
   "execution_count": null,
   "id": "4f279283",
   "metadata": {},
   "outputs": [],
   "source": []
  },
  {
   "cell_type": "code",
   "execution_count": null,
   "id": "64d647aa",
   "metadata": {},
   "outputs": [],
   "source": []
  }
 ],
 "metadata": {
  "kernelspec": {
   "display_name": "Python 3 (ipykernel)",
   "language": "python",
   "name": "python3"
  },
  "language_info": {
   "codemirror_mode": {
    "name": "ipython",
    "version": 3
   },
   "file_extension": ".py",
   "mimetype": "text/x-python",
   "name": "python",
   "nbconvert_exporter": "python",
   "pygments_lexer": "ipython3",
   "version": "3.9.12"
  }
 },
 "nbformat": 4,
 "nbformat_minor": 5
}
