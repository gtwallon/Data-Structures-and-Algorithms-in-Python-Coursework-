{
 "cells": [
  {
   "cell_type": "markdown",
   "id": "655702e7-9f91-4c67-b7a2-b263c82ab5ff",
   "metadata": {
    "tags": []
   },
   "source": [
    "# HW 6\n",
    "___"
   ]
  },
  {
   "cell_type": "markdown",
   "id": "dc1c4fa5-ece0-481c-ac03-6f14f5948075",
   "metadata": {},
   "source": [
    "### Hash Function\n",
    "Write a function **`cu_hash(identikey, modulus)`** that takes a CU Identikey in the form of a string and returns its hash value. Assume that the `identikey` string consists of 4 lower-case letters followed by 4 digits. The hash value is calculated as follows:\n",
    "* each letter in the Identikey is converted into Unicode by calling `ord()`.\n",
    "* the four `ord()` values are concatenated to the four digits in the Identikey to create a `hashnum`.\n",
    "* the function returns `hashnum % modulus` as the hash value.\n",
    "\n",
    "Example:<br>\n",
    "`cu_hash('pyth2022', 93)` returns `15` because `hashnum` equals `1121211161042022` and `hashnum % 93` equals `15`."
   ]
  },
  {
   "cell_type": "code",
   "execution_count": 1,
   "id": "00dae864-5618-40dc-a284-577f0b60eea9",
   "metadata": {},
   "outputs": [],
   "source": [
    "def cu_hash(identikey, modulus):\n",
    "    new_str = ''\n",
    "    for let in identikey[:4]:\n",
    "        new_str += str(ord(let))\n",
    "    \n",
    "    new_str += identikey[4:]\n",
    "    hashnum = int(new_str)\n",
    "    \n",
    "    return hashnum % modulus"
   ]
  },
  {
   "cell_type": "code",
   "execution_count": 2,
   "id": "bd211ac5",
   "metadata": {},
   "outputs": [
    {
     "data": {
      "text/plain": [
       "15"
      ]
     },
     "execution_count": 2,
     "metadata": {},
     "output_type": "execute_result"
    }
   ],
   "source": [
    "cu_hash('pyth2022', 93)"
   ]
  },
  {
   "cell_type": "markdown",
   "id": "0e7da545-6953-4202-b04f-d59bc7a76b3b",
   "metadata": {},
   "source": [
    "### Nodes\n",
    "Below is a class `Node` that will store a key and data, along with links to neighboring nodes in a `DLinkedList`. "
   ]
  },
  {
   "cell_type": "code",
   "execution_count": 3,
   "id": "d68b3204-ee20-4e26-b4f0-c0913c5f0275",
   "metadata": {},
   "outputs": [],
   "source": [
    "class Node:\n",
    "    def __init__(self, key, data):\n",
    "        self.key = key\n",
    "        self.data = data\n",
    "        self.prev = None\n",
    "        self.next = None"
   ]
  },
  {
   "cell_type": "markdown",
   "id": "87bd5046-93e8-498b-8b11-46b09aaf732a",
   "metadata": {},
   "source": [
    "### DLinkedList\n",
    "Use the `DLinkedList` class (defined in a previous assignment) with the  attribute:\n",
    "* **`head`** \n",
    "\n",
    "and the  methods:\n",
    "* **`insert`**, **`delete`**, **`search`**, **`keys`**."
   ]
  },
  {
   "cell_type": "code",
   "execution_count": 4,
   "id": "a06c99a9-672b-44e7-9fcd-7366dbd44296",
   "metadata": {},
   "outputs": [],
   "source": [
    "class DLinkedList:\n",
    "    \n",
    "    def __init__(self):\n",
    "        self.head = None\n",
    "        \n",
    "    def insert(self, node):       # inserting at the head\n",
    "        node.prev = None\n",
    "        node.next = self.head\n",
    "        if self.head != None:\n",
    "            self.head.prev = node\n",
    "        self.head = node\n",
    "        \n",
    "    def delete(self, node):\n",
    "        if node.prev == None:\n",
    "            self.head = node.next\n",
    "        else:\n",
    "            node.prev.next = node.next\n",
    "        if node.next != None:\n",
    "            node.next.prev = node.prev\n",
    "    \n",
    "    def search(self, value):\n",
    "        x = self.head                    # x is a node\n",
    "        while x!=None and x.key!=value:\n",
    "            x = x.next\n",
    "        return x\n",
    "    \n",
    "    def keys(self):\n",
    "        lst = []\n",
    "        x = self.head\n",
    "        while x!=None:\n",
    "            lst.append(x.key)\n",
    "            x = x.next\n",
    "        return lst"
   ]
  },
  {
   "cell_type": "markdown",
   "id": "ee1dd1c2-daa2-4ac0-a49b-db3e4a56d275",
   "metadata": {
    "tags": []
   },
   "source": [
    "### CU Identikey Hash Table\n",
    "In order to make a hash table for CU student records, create a **`CUHashTable`** class with these attributes:\n",
    "* **`num_slots`**: number of slots in the table (passed as an argument)\n",
    "* **`slots`**: a list with `num_slots` elements initialized to `None`. Later these slots will be filled with `DLinkedList`s (defined in a previous assignment).\n",
    "\n",
    "and these methods:\n",
    "* **`insert(id, name)`**: takes a student's Identikey and name and does the following:\n",
    "  * Creates a new `Node` with the `key` and `data` attributes equal to the student Identikey and name, respectively.\n",
    "  * Calculates the table slot number for the Identikey by calling `cu_hash()` with `num_slots` as the modulus.\n",
    "  * If the associated table slot is empty, insert a new `DLinkedList` consisting of the new `Node`. \n",
    "  * If the associated table slot is already filled, insert the new `Node` to the head of the existing `DLinkedList`.\n",
    "* **`lookup(id)`**: takes an Identikey and returns the corresponding `Node`. If not found, return `None`.\n",
    "\n",
    "Example:\n",
    "```\n",
    "table = CUHashTable(93)\n",
    "table.insert('pyth2022', 'Guido Von Rossum')\n",
    "table.insert('buff8039', 'Ralphie')\n",
    "table.insert('macu1234', 'Marie Curie')\n",
    "```\n",
    "stores the first and third tuples in slot 15, and stores the second tuple in a different slot. Then\n",
    "```\n",
    "table.lookup('pyth2022').data\n",
    "```\n",
    "returns `'Guido Von Rossum'` and\n",
    "```\n",
    "table.lookup('abcd9999')\n",
    "```\n",
    "returns `None`."
   ]
  },
  {
   "cell_type": "code",
   "execution_count": 5,
   "id": "7e07f990",
   "metadata": {},
   "outputs": [
    {
     "data": {
      "text/plain": [
       "[None, None, None, 3, None]"
      ]
     },
     "execution_count": 5,
     "metadata": {},
     "output_type": "execute_result"
    }
   ],
   "source": [
    "lst = [None] * 5\n",
    "lst[3] = 3\n",
    "lst"
   ]
  },
  {
   "cell_type": "code",
   "execution_count": 6,
   "id": "1530ff9a",
   "metadata": {},
   "outputs": [],
   "source": [
    "class CUHashTable:\n",
    "    \n",
    "    def __init__(self, num_slots):\n",
    "        self.num_slots = num_slots\n",
    "        self.slots = [None]*self.num_slots\n",
    "        \n",
    "    def insert(self, id, name):\n",
    "        node = Node(id, name)\n",
    "        hashnum = cu_hash(id, self.num_slots)\n",
    "        if self.slots[hashnum] == None:               # if slot is empty\n",
    "            DLL = DLinkedList()                       # initialize a doubly linked list\n",
    "            DLL.insert(node)                          # add node to head of DLL\n",
    "            self.slots[hashnum] = DLL               # make slot equal the DLL\n",
    "        else:\n",
    "            self.slots[hashnum].insert(node)         # if slot already has a DLL, insert new node\n",
    "    \n",
    "    def lookup(self, id):\n",
    "        hashnum = cu_hash(id, self.num_slots)\n",
    "        DLL = self.slots[hashnum]\n",
    "        if DLL == None:\n",
    "            return None\n",
    "        else:\n",
    "            return DLL.search(id)        # searching the DLL will return the node with 'id' as the key\n",
    "        "
   ]
  },
  {
   "cell_type": "code",
   "execution_count": 7,
   "id": "ffcc3f3a-08eb-48d8-a2d3-90b62336cea5",
   "metadata": {},
   "outputs": [],
   "source": [
    "table = CUHashTable(93)\n",
    "table.insert('pyth2022', 'Guido Von Rossum')\n",
    "table.insert('buff8039', 'Ralphie')\n",
    "table.insert('macu1234', 'Marie Curie')"
   ]
  },
  {
   "cell_type": "code",
   "execution_count": 8,
   "id": "21734863",
   "metadata": {},
   "outputs": [
    {
     "data": {
      "text/plain": [
       "'Guido Von Rossum'"
      ]
     },
     "execution_count": 8,
     "metadata": {},
     "output_type": "execute_result"
    }
   ],
   "source": [
    "table.lookup('pyth2022').data"
   ]
  },
  {
   "cell_type": "code",
   "execution_count": 9,
   "id": "f780f3ce",
   "metadata": {},
   "outputs": [],
   "source": [
    "table.lookup('abcd9999')"
   ]
  },
  {
   "cell_type": "code",
   "execution_count": 10,
   "id": "5936bdec",
   "metadata": {},
   "outputs": [
    {
     "data": {
      "text/plain": [
       "'Marie Curie'"
      ]
     },
     "execution_count": 10,
     "metadata": {},
     "output_type": "execute_result"
    }
   ],
   "source": [
    "table.lookup('macu1234').data"
   ]
  },
  {
   "cell_type": "code",
   "execution_count": 11,
   "id": "188ac7bb",
   "metadata": {},
   "outputs": [
    {
     "data": {
      "text/plain": [
       "'Ralphie'"
      ]
     },
     "execution_count": 11,
     "metadata": {},
     "output_type": "execute_result"
    }
   ],
   "source": [
    "table.lookup('buff8039').data"
   ]
  },
  {
   "cell_type": "code",
   "execution_count": null,
   "id": "049d9e6f",
   "metadata": {},
   "outputs": [],
   "source": []
  },
  {
   "cell_type": "markdown",
   "id": "26c9ac73-1eae-45a1-8a21-0fcf9a77da45",
   "metadata": {
    "tags": []
   },
   "source": [
    "### Free Ski Pass Giveaway\n",
    "\n",
    "A free ski pass will be awarded to a lucky CU student. Students who sign up for this free giveaway will be arranged in a line. Then every $k$th student will be eliminated, one at a time, until the lucky winner is left. For example, suppose $k=3$ and there are 10 students named A, B, ..., J. Then eliminating every 3rd student (with wraparound) produces this result with student D as the winner.\n",
    "```\n",
    "A B C D E F G H I J\n",
    "A B   D E   G H   J\n",
    "A     D E     H   J\n",
    "      D E         J\n",
    "      D           J\n",
    "      D                   \n",
    "```\n",
    "\n",
    "Write a function **`giveaway(participants, k)`** that takes a list of participant names, simulates this procedure for a positive integer `k`, and returns the name of the winner. The function should store the names as keys in a `DLinkedList`, then eliminate the participants by removing their corresponding nodes, one at a time.\n",
    "\n",
    "Example:<br>\n",
    "`giveaway(list('ABCDEFGHIJ'), 3)` returns `'D'`."
   ]
  },
  {
   "cell_type": "code",
   "execution_count": 101,
   "id": "8940934e",
   "metadata": {},
   "outputs": [],
   "source": [
    "def giveaway(participants, k):\n",
    "        \n",
    "    DLL = DLinkedList()\n",
    "    for name in participants[::-1]:    # populate the DLL with name nodes from participants list\n",
    "        node = Node(name, None)\n",
    "        DLL.insert(node)\n",
    "    \n",
    "    x = DLL.head\n",
    "    while DLL.head != None:\n",
    "        for _ in range(k-1):\n",
    "            x = x.next if x.next != None else DLL.head\n",
    "        temp = x.next if x.next != None else DLL.head\n",
    "        DLL.delete(x)\n",
    "        x = temp\n",
    "    \n",
    "    return x.key"
   ]
  },
  {
   "cell_type": "code",
   "execution_count": 102,
   "id": "adff2d17",
   "metadata": {},
   "outputs": [
    {
     "data": {
      "text/plain": [
       "'D'"
      ]
     },
     "execution_count": 102,
     "metadata": {},
     "output_type": "execute_result"
    }
   ],
   "source": [
    "giveaway(list('ABCDEFGHIJ'), 3)"
   ]
  },
  {
   "cell_type": "code",
   "execution_count": null,
   "id": "fbc6a6c8",
   "metadata": {},
   "outputs": [],
   "source": []
  },
  {
   "cell_type": "markdown",
   "id": "e9e89338-6c73-48e9-9a8a-deba3b16c3bf",
   "metadata": {},
   "source": [
    "Read in the file **`giveaway_names.txt`** which contains the names of 100 participants, one name on each line. Store the names in a list called **`participant_names`**. Then run `giveaway(participant_names, 7)`."
   ]
  },
  {
   "cell_type": "code",
   "execution_count": 95,
   "id": "896273a3-ad0b-4523-a281-d3579743a026",
   "metadata": {},
   "outputs": [],
   "source": [
    "with open('giveaway_names.txt') as fp:\n",
    "    data = fp.readlines()"
   ]
  },
  {
   "cell_type": "code",
   "execution_count": 96,
   "id": "edab79b8",
   "metadata": {},
   "outputs": [],
   "source": [
    "participant_names = []\n",
    "for d in data:\n",
    "    participant_names.append(d.strip())"
   ]
  },
  {
   "cell_type": "code",
   "execution_count": 97,
   "id": "481e3d5a",
   "metadata": {},
   "outputs": [
    {
     "data": {
      "text/plain": [
       "['Chelsea', 'Milo', 'Evan', 'Kasey', 'Elizabeth', 'Geraldine', 'Heather']"
      ]
     },
     "execution_count": 97,
     "metadata": {},
     "output_type": "execute_result"
    }
   ],
   "source": [
    "participant_names[10:17]"
   ]
  },
  {
   "cell_type": "code",
   "execution_count": 103,
   "id": "ed9f99e2",
   "metadata": {},
   "outputs": [
    {
     "data": {
      "text/plain": [
       "'Lennox'"
      ]
     },
     "execution_count": 103,
     "metadata": {},
     "output_type": "execute_result"
    }
   ],
   "source": [
    "giveaway(participant_names, 7)"
   ]
  },
  {
   "cell_type": "code",
   "execution_count": null,
   "id": "cd69bdce",
   "metadata": {},
   "outputs": [],
   "source": []
  }
 ],
 "metadata": {
  "kernelspec": {
   "display_name": "Python 3 (ipykernel)",
   "language": "python",
   "name": "python3"
  },
  "language_info": {
   "codemirror_mode": {
    "name": "ipython",
    "version": 3
   },
   "file_extension": ".py",
   "mimetype": "text/x-python",
   "name": "python",
   "nbconvert_exporter": "python",
   "pygments_lexer": "ipython3",
   "version": "3.9.12"
  }
 },
 "nbformat": 4,
 "nbformat_minor": 5
}
