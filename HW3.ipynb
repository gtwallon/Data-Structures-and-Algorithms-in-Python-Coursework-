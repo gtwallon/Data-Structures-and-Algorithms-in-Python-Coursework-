{
 "cells": [
  {
   "cell_type": "markdown",
   "id": "91ee4dcb-b440-4794-97ec-3c4b5b3c1739",
   "metadata": {
    "tags": []
   },
   "source": [
    "# HW 3\n",
    "\n",
    "**Upload two files** to Gradescope: \n",
    "* `HW3.py` (which will be autograded)\n",
    "* `HW3.ipynb` (run all cells to make sure that outputs are visible)\n",
    "\n",
    "___"
   ]
  },
  {
   "cell_type": "code",
   "execution_count": 1,
   "id": "193a137f-a070-4638-bd84-ea27a596d21a",
   "metadata": {},
   "outputs": [],
   "source": [
    "import math\n",
    "import random\n",
    "import numpy as np\n",
    "import matplotlib.pyplot as plt\n",
    "import time"
   ]
  },
  {
   "cell_type": "markdown",
   "id": "d1c1b6dc-4d2d-41fe-b198-f577dddb18e0",
   "metadata": {},
   "source": [
    "### Function Threshold\n",
    "\n",
    "Suppose `func(n)` is a monotonically increasing function. Write a function **`exceed_func3(func, thresh, start, end)`** that **uses binary search** to find the largest `n` between positive integers `start` and `end`, inclusive, such that `func(n)` is less than or equal to a given threshold. If there is no such `n`, return `None`."
   ]
  },
  {
   "cell_type": "code",
   "execution_count": 5,
   "id": "2bd3efa7-1e1c-4285-bea1-8c4be564b770",
   "metadata": {},
   "outputs": [],
   "source": [
    "def exceed_func3(func, thresh, start, end):\n",
    "    if func(start) > thresh:\n",
    "        return None\n",
    "    elif func(end) < thresh:\n",
    "        return end\n",
    "    elif (end-start) == 1:\n",
    "        return start\n",
    "    \n",
    "    mid = (start+end)//2\n",
    "    fmid = func(mid)\n",
    "    if fmid == thresh:\n",
    "        return mid\n",
    "    elif fmid < thresh:\n",
    "        return exceed_func3(func, thresh, mid, end)\n",
    "    elif fmid > thresh:\n",
    "        return exceed_func3(func, thresh, start, mid)"
   ]
  },
  {
   "cell_type": "code",
   "execution_count": 9,
   "id": "ce8480e1",
   "metadata": {},
   "outputs": [
    {
     "data": {
      "text/plain": [
       "6"
      ]
     },
     "execution_count": 9,
     "metadata": {},
     "output_type": "execute_result"
    }
   ],
   "source": [
    "exceed_func3(lambda x: x**2, 36, 4, 10)"
   ]
  },
  {
   "cell_type": "markdown",
   "id": "456aeee8-f203-40b4-a6bc-5d4c65f32ff4",
   "metadata": {},
   "source": [
    "### Max SubList Problem\n",
    "Given a list of numbers, find a contiguous sublist with the largest sum. If there is more than one sublist with the same max sum, return any of them. Assume that the list contains both positive and negative numbers.\n",
    "\n",
    "* Write a function **`max_sublist1(nums, start, end)`** that implements the brute-force (exhaustive search) solution, examining every possible sublist. It returns a 3-element tuple containing the indices that correspond to the first and last elements of the max sublist (inclusive), and the max sum.\n",
    "\n",
    "  Example:<br>\n",
    "  `max_sublist1([1, -4, 13, -5, 7], 0, 4)` returns `(2, 4, 15)` which corresponds to the max sum of $13-5+7 = 15$ and the starting and ending indices of $2$ and $4$.\n",
    "\n",
    "* Write a function **`max_sublist2(nums, start, end)`** that implements the divide-and-conquer solution. Recall that this is a $\\Theta(n \\log n)$ algorithm.\n",
    "\n",
    "* Find a linear time algorithm for the max sublist problem. Write a function **`max_sublist3(nums, start, end)`** that implements this $\\Theta(n)$ algorithm. (*Hint:* Given a starting index, as long as the accumulated sum is positive, keep adding elements. If the sum becomes negative, reset the starting index.)"
   ]
  },
  {
   "cell_type": "code",
   "execution_count": 67,
   "id": "9b332901",
   "metadata": {},
   "outputs": [],
   "source": [
    "def max_sublist1(nums, start, end):\n",
    "    max_sum = -math.inf\n",
    "    max_tup = ()\n",
    "    for i in range(start, (end+1)):\n",
    "        for lenn in range(end+1-i):\n",
    "            lst = nums[i:(i+lenn+1)]\n",
    "            summ = sum(lst)\n",
    "            if summ > max_sum:\n",
    "                max_sum = summ\n",
    "                max_tup = (i, i+lenn, max_sum)\n",
    "\n",
    "    return max_tup"
   ]
  },
  {
   "cell_type": "code",
   "execution_count": 68,
   "id": "904ea61b",
   "metadata": {},
   "outputs": [
    {
     "data": {
      "text/plain": [
       "(2, 4, 15)"
      ]
     },
     "execution_count": 68,
     "metadata": {},
     "output_type": "execute_result"
    }
   ],
   "source": [
    "max_sublist1([1, -4, 13, -5, 7], 0, 4)"
   ]
  },
  {
   "cell_type": "code",
   "execution_count": 83,
   "id": "7e87ecb2",
   "metadata": {},
   "outputs": [],
   "source": [
    "def max_crossing_sublist(nums, start, mid, end):\n",
    "    left_sum = -math.inf\n",
    "    summ = 0\n",
    "    for i in range(mid, start-1, -1):\n",
    "        summ += nums[i]\n",
    "        if summ > left_sum:\n",
    "            left_sum = summ\n",
    "            max_left = i\n",
    "    right_sum = -math.inf\n",
    "    summ = 0\n",
    "    for i in range(mid+1, end+1):\n",
    "        summ += nums[i]\n",
    "        if summ > right_sum:\n",
    "            right_sum = summ\n",
    "            max_right = i\n",
    "    return (max_left, max_right, (left_sum+right_sum))"
   ]
  },
  {
   "cell_type": "code",
   "execution_count": 84,
   "id": "51b5a3b3",
   "metadata": {},
   "outputs": [],
   "source": [
    "def max_sublist2(nums, start, end):\n",
    "    if start == end:\n",
    "        return (start, end, nums[start])\n",
    "    else:\n",
    "        mid = (start+end)//2\n",
    "        left_start, left_end, left_sum = max_sublist2(nums, start, mid)\n",
    "        right_start, right_end, right_sum = max_sublist2(nums, (mid+1), end)\n",
    "        cross_start, cross_end, cross_sum = max_crossing_sublist(nums, start, mid, end)\n",
    "    if left_sum >= right_sum and left_sum >= cross_sum:\n",
    "        return (left_start, left_end, left_sum)\n",
    "    elif right_sum >= left_sum and right_sum >= cross_sum:\n",
    "        return (right_start, right_end, right_sum)\n",
    "    else:\n",
    "        return (cross_start, cross_end, cross_sum)"
   ]
  },
  {
   "cell_type": "code",
   "execution_count": 85,
   "id": "3915e293",
   "metadata": {},
   "outputs": [
    {
     "data": {
      "text/plain": [
       "(2, 4, 15)"
      ]
     },
     "execution_count": 85,
     "metadata": {},
     "output_type": "execute_result"
    }
   ],
   "source": [
    "max_sublist2([1, -4, 13, -5, 7], 0, 4)"
   ]
  },
  {
   "cell_type": "code",
   "execution_count": 86,
   "id": "fcd27ce1",
   "metadata": {
    "scrolled": false
   },
   "outputs": [
    {
     "data": {
      "text/plain": [
       "(1, 6, 25)"
      ]
     },
     "execution_count": 86,
     "metadata": {},
     "output_type": "execute_result"
    }
   ],
   "source": [
    "max_sublist2([-1,4,8,0,-3,5,11], 0, 6)"
   ]
  },
  {
   "cell_type": "code",
   "execution_count": 162,
   "id": "8c3f9352",
   "metadata": {},
   "outputs": [],
   "source": [
    "def max_sublist3(nums, start, end):\n",
    "    temp_start = start\n",
    "    start_i = 0\n",
    "    end_i = 0\n",
    "    temp_sum = 0\n",
    "    max_sum = 0\n",
    "    for i, num in enumerate(nums):\n",
    "        temp_sum += num\n",
    "        \n",
    "        if temp_sum <= 0:       # if negative or zero \n",
    "            temp_sum = 0        # reset temporary sum\n",
    "            temp_start = i+1    # move starting index over\n",
    "            \n",
    "        if temp_sum > max_sum:          # if temp sum is greater than max\n",
    "            max_sum = temp_sum          # set max value to temp\n",
    "            start_i = temp_start        # record the starting index\n",
    "            end_i = i                   # record the current index\n",
    "            \n",
    "    return (start_i, end_i, max_sum)"
   ]
  },
  {
   "cell_type": "code",
   "execution_count": 163,
   "id": "9e430dcd",
   "metadata": {},
   "outputs": [
    {
     "data": {
      "text/plain": [
       "(2, 4, 15)"
      ]
     },
     "execution_count": 163,
     "metadata": {},
     "output_type": "execute_result"
    }
   ],
   "source": [
    "max_sublist3([1, -4, 13, -5, 7], 0, 4)"
   ]
  },
  {
   "cell_type": "code",
   "execution_count": 164,
   "id": "728cbb8b",
   "metadata": {
    "scrolled": true
   },
   "outputs": [
    {
     "data": {
      "text/plain": [
       "(1, 6, 25)"
      ]
     },
     "execution_count": 164,
     "metadata": {},
     "output_type": "execute_result"
    }
   ],
   "source": [
    "max_sublist3([-1,4,8,0,-3,5,11], 0, 6)"
   ]
  },
  {
   "cell_type": "code",
   "execution_count": 165,
   "id": "f9b7e94b",
   "metadata": {},
   "outputs": [],
   "source": [
    "rand_lst = [random.randint(-50,50) for _ in range(2000)]"
   ]
  },
  {
   "cell_type": "code",
   "execution_count": 166,
   "id": "20358cd7",
   "metadata": {},
   "outputs": [
    {
     "data": {
      "text/plain": [
       "(172, 854, 1162)"
      ]
     },
     "execution_count": 166,
     "metadata": {},
     "output_type": "execute_result"
    }
   ],
   "source": [
    "max_sublist2(rand_lst, 0, 1999)"
   ]
  },
  {
   "cell_type": "code",
   "execution_count": 167,
   "id": "a79fddd2",
   "metadata": {},
   "outputs": [
    {
     "data": {
      "text/plain": [
       "(172, 854, 1162)"
      ]
     },
     "execution_count": 167,
     "metadata": {},
     "output_type": "execute_result"
    }
   ],
   "source": [
    "max_sublist3(rand_lst, 0, 1999)"
   ]
  },
  {
   "cell_type": "markdown",
   "id": "12dc6b19-c9c1-46ad-95d2-a206400c32b8",
   "metadata": {},
   "source": [
    "**Compare the runtimes for the 3 versions.**"
   ]
  },
  {
   "cell_type": "code",
   "execution_count": 168,
   "id": "169c911a",
   "metadata": {},
   "outputs": [
    {
     "name": "stdout",
     "output_type": "stream",
     "text": [
      "Version 1 Time: 19.070793\n",
      "Version 2 Time: 0.007347\n",
      "Version 3 Time: 0.000832\n"
     ]
    }
   ],
   "source": [
    "start1 = time.time()\n",
    "max_sublist1(rand_lst, 0, 1999)\n",
    "end1 = time.time()\n",
    "t_f1 = end1-start1\n",
    "print(f'Version 1 Time: {t_f1:8f}')\n",
    "\n",
    "start2 = time.time()\n",
    "max_sublist2(rand_lst, 0, 1999)\n",
    "end2 = time.time()\n",
    "t_f2 = end2 - start2\n",
    "print(f'Version 2 Time: {t_f2:8f}')\n",
    "\n",
    "start3 = time.time()\n",
    "max_sublist3(rand_lst, 0, 1999)\n",
    "end3 = time.time()\n",
    "t_f3 = end3 - start3\n",
    "print(f'Version 3 Time: {t_f3:8f}')"
   ]
  },
  {
   "cell_type": "code",
   "execution_count": null,
   "id": "389df4c1",
   "metadata": {},
   "outputs": [],
   "source": []
  },
  {
   "cell_type": "code",
   "execution_count": null,
   "id": "e6a6fc69",
   "metadata": {},
   "outputs": [],
   "source": []
  },
  {
   "cell_type": "code",
   "execution_count": null,
   "id": "3604c509",
   "metadata": {},
   "outputs": [],
   "source": []
  },
  {
   "cell_type": "code",
   "execution_count": null,
   "id": "3223a464",
   "metadata": {},
   "outputs": [],
   "source": []
  },
  {
   "cell_type": "code",
   "execution_count": null,
   "id": "e0efe5f3",
   "metadata": {},
   "outputs": [],
   "source": []
  },
  {
   "cell_type": "code",
   "execution_count": null,
   "id": "524c2265",
   "metadata": {},
   "outputs": [],
   "source": []
  },
  {
   "cell_type": "code",
   "execution_count": null,
   "id": "5445bf2e",
   "metadata": {},
   "outputs": [],
   "source": []
  },
  {
   "cell_type": "code",
   "execution_count": null,
   "id": "6fb25850",
   "metadata": {},
   "outputs": [],
   "source": []
  },
  {
   "cell_type": "code",
   "execution_count": null,
   "id": "bdc250ed",
   "metadata": {},
   "outputs": [],
   "source": []
  }
 ],
 "metadata": {
  "kernelspec": {
   "display_name": "Python 3 (ipykernel)",
   "language": "python",
   "name": "python3"
  },
  "language_info": {
   "codemirror_mode": {
    "name": "ipython",
    "version": 3
   },
   "file_extension": ".py",
   "mimetype": "text/x-python",
   "name": "python",
   "nbconvert_exporter": "python",
   "pygments_lexer": "ipython3",
   "version": "3.9.12"
  }
 },
 "nbformat": 4,
 "nbformat_minor": 5
}
