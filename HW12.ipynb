{
 "cells": [
  {
   "cell_type": "markdown",
   "id": "403331a2-4093-4d0b-b07c-8731b7d67abb",
   "metadata": {
    "tags": []
   },
   "source": [
    "# HW 12\n",
    "\n",
    "___"
   ]
  },
  {
   "cell_type": "code",
   "execution_count": 1,
   "id": "81bb8984-8fe6-4a76-b703-6d7a2b7f1fb5",
   "metadata": {},
   "outputs": [],
   "source": [
    "import math\n",
    "import numpy as np"
   ]
  },
  {
   "cell_type": "code",
   "execution_count": 2,
   "id": "963b2213",
   "metadata": {},
   "outputs": [],
   "source": [
    "class Queue():\n",
    "\n",
    "    def __init__(self, max_size):\n",
    "        self.length = max_size\n",
    "        self.items = max_size * [None]\n",
    "        self.head = 0\n",
    "        self.tail = 0\n",
    "        \n",
    "    def enqueue(self, item):\n",
    "        if (self.head == ((self.tail + 1)) % self.length):\n",
    "            print('ERROR: Queue size exceeded')\n",
    "            return\n",
    "        self.items[self.tail] = item\n",
    "        self.tail = (self.tail + 1) % self.length\n",
    "        \n",
    "    def dequeue(self):\n",
    "        if self.head == self.tail:\n",
    "            print('ERROR: Queue is empty')\n",
    "            return\n",
    "        item = self.items[self.head]\n",
    "        self.head = (self.head + 1) % self.length\n",
    "        return item"
   ]
  },
  {
   "cell_type": "markdown",
   "id": "65376b00-8cc0-49a7-9c83-6c4a7f999a4b",
   "metadata": {},
   "source": [
    "### Doublets \n",
    "\n",
    "The object of this puzzle (by Lewis Carroll 1879) is to convert a starting word into a target word, changing one character at a time, minimizing the number of changes and always forming a valid word with each letter change.\n",
    "\n",
    "If the starting word is `PIG` and the target word is `STY`, a solution with 5 changes is \n",
    "\n",
    "PIG $\\to$ BIG $\\to$ BAG $\\to$ SAG $\\to$ SAY $\\to$ STY.\n",
    "\n",
    "Write a function **`doublet(start, target, wordlist)`** that returns a minimal solution, listing the words that lead to the target word. Assume that `start` and `target` have the same number of upper-case characters and no more than 5 characters. If there is no solution, return an empty list. If there is more than one minimal solution, return any of them. \n",
    "\n",
    "The function should use **breadth-first search**. Each valid word under consideration should be stored in a `WordNode` object (defined below) with the `word`, `parent`, and `dist` attributes set appropriately. The use of the `color` attribute is optional.\n",
    "\n",
    "To check whether a word is valid, compare to the list of strings in `wordlist`. The list `wordlist` can be formed from the 3-letter words in `lexicon3_upper.txt`. A larger file containing 3-, 4-, and 5-letter words is `lexicon5_upper.txt`.\n",
    "\n",
    "Example: `doublet('PIG', 'STY')` may return `['BIG', 'BAG', 'SAG', 'SAY', 'STY']`. There are other solutions such as `['PIN', 'PAN', 'PAY', 'SAY', 'STY']`."
   ]
  },
  {
   "cell_type": "markdown",
   "id": "c4ddcbc4",
   "metadata": {},
   "source": [
    "for each word in wordlist, make an adjacency list for the other words in the list that are only 1 letter different from it"
   ]
  },
  {
   "cell_type": "code",
   "execution_count": 3,
   "id": "42e3cb52-662d-4727-a310-59e63a6dd654",
   "metadata": {},
   "outputs": [],
   "source": [
    "class WordNode:\n",
    "    def __init__(self, word):\n",
    "        self.word = word\n",
    "        self.parent = None\n",
    "        self.color = 'white'\n",
    "        self.dist = math.inf"
   ]
  },
  {
   "cell_type": "code",
   "execution_count": null,
   "id": "759c24ed",
   "metadata": {},
   "outputs": [],
   "source": []
  },
  {
   "cell_type": "markdown",
   "id": "fa8d3827",
   "metadata": {},
   "source": [
    "* initialize a node for each word in wordlist, add to a dict: word:node\n",
    "* initialize start dist to zero\n",
    "* initialize a Queue, add start to queue\n",
    "* while queue isnt empty, fill in the distances and colors for all the words in the adj list of current word\n",
    "* update these nodes in word_dict\n",
    "* after this is done, word_dict[target] will have the correct distance \n",
    "\n",
    "* make a print_answer function that goes down the list of parents from the target and adds to list\n",
    "\n",
    "\n",
    "* create function called find_adj_list"
   ]
  },
  {
   "cell_type": "code",
   "execution_count": null,
   "id": "f73ebcc1",
   "metadata": {},
   "outputs": [],
   "source": []
  },
  {
   "cell_type": "code",
   "execution_count": 4,
   "id": "195d041e",
   "metadata": {},
   "outputs": [],
   "source": [
    "# get adj list function\n",
    "def get_adj(word, wordlist):\n",
    "    alpha = 'ABCDEFGHIJKLMNOPQRSTUVWXYZ'\n",
    "    \n",
    "    all_words = wordlist\n",
    "    \n",
    "    adj = []\n",
    "    for idx in range(len(word)):     # for each index in word\n",
    "        lst = list(word)\n",
    "        for char in alpha:           # switch the character in word with every character in the alphabet\n",
    "            lst[idx] = char\n",
    "            new_word = ''.join(lst)\n",
    "            if new_word in all_words and new_word != word:\n",
    "                adj.append(new_word)\n",
    "                \n",
    "    return adj"
   ]
  },
  {
   "cell_type": "code",
   "execution_count": 5,
   "id": "b77ccb1b",
   "metadata": {},
   "outputs": [],
   "source": [
    "# get_adj('PIG', lexicon)"
   ]
  },
  {
   "cell_type": "code",
   "execution_count": 6,
   "id": "70569683",
   "metadata": {},
   "outputs": [],
   "source": [
    "def doublet(start, target, wordlist):\n",
    "    \n",
    "    all_words = wordlist\n",
    "    \n",
    "    # initialize a dictionary\n",
    "    word_dict = {}\n",
    "\n",
    "    # make a node for every word in wordlist\n",
    "    for word in all_words:\n",
    "        word_dict[word] = WordNode(word)\n",
    "    word_dict[start].dist = 0\n",
    "    word_dict[start].color = 'gray'\n",
    "        \n",
    "    # make a Queue of nodes\n",
    "    Q = Queue(len(word_dict))\n",
    "    Q.enqueue(word_dict[start])\n",
    "    \n",
    "    while Q.head != Q.tail:\n",
    "        u = Q.dequeue()\n",
    "        adj = get_adj(u.word, all_words)  # get adj list for u\n",
    "        for word in adj:\n",
    "            if word_dict[word].color == 'white':\n",
    "                word_dict[word].color = 'gray'\n",
    "                word_dict[word].dist = u.dist + 1\n",
    "                word_dict[word].parent = u\n",
    "                Q.enqueue(word_dict[word])\n",
    "        u.color = 'black'\n",
    "#         print([nod.word for nod in Q.items[Q.head:Q.tail]])\n",
    "#         if u != word_dict[start]:   \n",
    "#             print(word_dict[u.word].parent.word)\n",
    "\n",
    "#     print([(nod.word, nod.dist) for nod in word_dict.values()])\n",
    "#     print(word_dict[target].parent.word)\n",
    "    \n",
    "    answer = []\n",
    "    nod = word_dict[target]\n",
    "    while nod.parent != None:\n",
    "        answer.append(nod.word)\n",
    "        nod = nod.parent\n",
    "        \n",
    "    return answer[::-1]"
   ]
  },
  {
   "cell_type": "code",
   "execution_count": 7,
   "id": "d79f2c20",
   "metadata": {},
   "outputs": [],
   "source": [
    "# fp = open('lexicon3_upper.txt')\n",
    "# data = fp.read()\n",
    "# lexicon = data.split()\n",
    "# fp.close()"
   ]
  },
  {
   "cell_type": "code",
   "execution_count": 8,
   "id": "4fdd2885",
   "metadata": {},
   "outputs": [],
   "source": [
    "# lexicon"
   ]
  },
  {
   "cell_type": "code",
   "execution_count": 9,
   "id": "693cfa85",
   "metadata": {},
   "outputs": [],
   "source": [
    "# doublet('PIG', 'STY', lexicon)"
   ]
  },
  {
   "cell_type": "code",
   "execution_count": 10,
   "id": "3b03c63d",
   "metadata": {},
   "outputs": [],
   "source": [
    "# doublet('WET', 'DRY', lexicon)"
   ]
  },
  {
   "cell_type": "code",
   "execution_count": null,
   "id": "04934572",
   "metadata": {},
   "outputs": [],
   "source": []
  },
  {
   "cell_type": "code",
   "execution_count": null,
   "id": "a03a6eea",
   "metadata": {},
   "outputs": [],
   "source": []
  },
  {
   "cell_type": "code",
   "execution_count": null,
   "id": "72d7bc34",
   "metadata": {},
   "outputs": [],
   "source": []
  },
  {
   "cell_type": "markdown",
   "id": "9e3d2a43-5777-4aa8-b912-daf64a3d148e",
   "metadata": {},
   "source": [
    "### Route in 3D\n",
    "Auntie Ant is crawling along a wire frame that has one corner at $x=0, y=0, z=0$ and the opposite corner at $x=m, y=n, z=p$ with $m,n,p > 0$. She wishes to find a path from a starting intersection to a destination intersection, moving in any direction but always on the wire frame. Some of the intersections in the wire frame may be covered in sticky tar, so Auntie Ant will need to avoid them.\n",
    "\n",
    "Write a function **`route(frame, start, dest)`** that takes a 3D numpy array representing the wire frame and returns a list of vertices that extend from `start` to `dest`. Each `frame[a,b,c]` entry corresponds to $x=a, y=b, z=c$. The sticky (blocked) intersections are marked in `frame` with the value `-1`. The open intersections have the value `0`. Compute the answer using **Depth-First Search**, returning the first route found. \n",
    "\n",
    "Assume that `start` and `dest` are not sticky. If there is no path, the function returns an empty list. You may construct a separate graph with nodes but it is not necessary."
   ]
  },
  {
   "cell_type": "markdown",
   "id": "0b4cd695-6c31-48ec-88a8-c514b89e1ac0",
   "metadata": {},
   "source": [
    "**Example 1**: In the $4\\times 3\\times 3$ wire frame shown below, the `start` and `dest` locations are colored red and the sticky intersections are colored gray.\n",
    "\n",
    "<img src=\"http://www.coloradomath.org/python/grid3d-axes.jpg\" width=\"392\" height=\"313\" style=\"display:block; margin:auto\" />\n",
    "\n",
    "```\n",
    "frame = np.zeros((4, 3, 3))\n",
    "sticky_pts = [(1,2,0), (3,1,1), (2,2,2)]\n",
    "for pt in sticky_pts:\n",
    "    frame[pt] = -1\n",
    "    \n",
    "route(frame, (0, 0, 0), (3, 2, 2))\n",
    "``` \n",
    "may return this answer. There are other possible solutions.\n",
    "```\n",
    "[(0, 0, 0), (1, 0, 0), (2, 0, 0), (3, 0, 0), (3, 1, 0), (3, 2, 0), (3, 2, 1), (3, 2, 2)]\n",
    "```"
   ]
  },
  {
   "cell_type": "code",
   "execution_count": null,
   "id": "62fe2de8",
   "metadata": {},
   "outputs": [],
   "source": []
  },
  {
   "cell_type": "markdown",
   "id": "4b3a9798",
   "metadata": {},
   "source": [
    "* at each step, take the greedy step towards the dest.\n",
    "* construct the adj list in a greedy way, moving towards the dest\n",
    "* if all adjacent steps are sticky, then you want to move back to the previous step"
   ]
  },
  {
   "cell_type": "code",
   "execution_count": 2,
   "id": "a3073651",
   "metadata": {},
   "outputs": [],
   "source": [
    "def adj_v(frame, coord, dest):\n",
    "\n",
    "    adj_lst = []  # moves in x,y,z\n",
    "\n",
    "    # add greedy adjacent vertices to the list first\n",
    "    for idx in range(3):\n",
    "        if dest[idx] > coord[idx]:   # check which direction to move in for every dimension\n",
    "    #             directions[idx] = 'pos'\n",
    "            change = coord[idx]+1\n",
    "        elif dest[idx] == coord[idx]:\n",
    "    #             directions[idx] = 'equal'\n",
    "            continue                      # if this is equal, you dont need to move along this dimension\n",
    "        else:\n",
    "    #             directions[idx] = 'neg'\n",
    "            change = coord[idx]-1\n",
    "        lst = list(coord)\n",
    "        lst[idx] = change\n",
    "        adj_lst.append(tuple(lst))\n",
    "        \n",
    "\n",
    "    # add the rest of the adjacent vertices to the list\n",
    "    max_x = frame.shape[0]-1\n",
    "    max_y = frame.shape[1]-1\n",
    "    max_z = frame.shape[2]-1\n",
    "    maxes = [max_x,max_y,max_z]\n",
    "    for i in range(3):\n",
    "        if coord[i]+1 <= maxes[i]:\n",
    "            lst = list(coord)\n",
    "            lst[i]+=1\n",
    "            if tuple(lst) not in adj_lst:\n",
    "                adj_lst.append(tuple(lst))\n",
    "        if coord[i]-1 >= 0:\n",
    "            lst = list(coord)\n",
    "            lst[i]-=1\n",
    "            if tuple(lst) not in adj_lst:\n",
    "                adj_lst.append(tuple(lst))\n",
    "\n",
    "\n",
    "    # check if any of the adj points are sticky and remove from the lst if they are\n",
    "    i = 0\n",
    "    while i < len(adj_lst):\n",
    "        if frame[adj_lst[i]] == -1:\n",
    "            del(adj_lst[i])\n",
    "            continue\n",
    "        i+=1\n",
    "    \n",
    "    \n",
    "    # order the adj_lst such that the vertices already in the path are at the end\n",
    "    i = 0\n",
    "    temp_lst = []\n",
    "    while i < len(adj_lst):\n",
    "        if frame[adj_lst[i]] == 1:\n",
    "            temp_lst.append(adj_lst[i])\n",
    "            del(adj_lst[i])\n",
    "            continue\n",
    "        i+=1\n",
    "    \n",
    "    return adj_lst + temp_lst"
   ]
  },
  {
   "cell_type": "code",
   "execution_count": null,
   "id": "85d58800",
   "metadata": {},
   "outputs": [],
   "source": []
  },
  {
   "cell_type": "code",
   "execution_count": null,
   "id": "2a79ea38",
   "metadata": {},
   "outputs": [],
   "source": []
  },
  {
   "cell_type": "code",
   "execution_count": 3,
   "id": "9b27d708",
   "metadata": {},
   "outputs": [],
   "source": [
    "def DFS_visit(frame, coord, start, dest, path):\n",
    "    '''move to adjacent vertices until you hit the dest.\n",
    "    if not at dest. yet, move to next adjacent vertex,\n",
    "    all adjacent are sticky, move to next adjacent in previous list'''\n",
    "\n",
    "    if coord == dest:\n",
    "        path.append(coord)\n",
    "        return path\n",
    "    \n",
    "    adj_lst = adj_v(frame, coord, dest)   # returns list of adjacent vertices with greedy next \n",
    "    # coordinate steps listed first\n",
    "\n",
    "    if len(adj_lst) == 1 and coord != start:  # the only adjacent vertex is the one you are coming from (if not the start)\n",
    "        frame[coord] = -1   # now when you do DFS on the previous vertex it will not have this vertex in its adj_lst\n",
    "    else:\n",
    "        frame[coord]=1\n",
    "        path.append(coord)\n",
    "    \n",
    "#     print(coord, adj_lst)\n",
    "    \n",
    "    for v in adj_lst:\n",
    "        return DFS_visit(frame, v, start, dest, path)"
   ]
  },
  {
   "cell_type": "code",
   "execution_count": 4,
   "id": "87425e15",
   "metadata": {},
   "outputs": [],
   "source": [
    "def route(frame, start, dest):\n",
    "    \n",
    "    coord = start \n",
    "    path = []\n",
    "    DFS_visit(frame, coord, coord, dest, path)\n",
    "    return path"
   ]
  },
  {
   "cell_type": "code",
   "execution_count": null,
   "id": "c7cb3a6b",
   "metadata": {},
   "outputs": [],
   "source": []
  },
  {
   "cell_type": "code",
   "execution_count": null,
   "id": "27d44b60",
   "metadata": {},
   "outputs": [],
   "source": []
  },
  {
   "cell_type": "code",
   "execution_count": 5,
   "id": "e4ec9210",
   "metadata": {},
   "outputs": [
    {
     "data": {
      "text/plain": [
       "[(0, 0, 0),\n",
       " (1, 0, 0),\n",
       " (2, 0, 0),\n",
       " (3, 0, 0),\n",
       " (3, 1, 0),\n",
       " (3, 2, 0),\n",
       " (3, 2, 1),\n",
       " (3, 2, 2)]"
      ]
     },
     "execution_count": 5,
     "metadata": {},
     "output_type": "execute_result"
    }
   ],
   "source": [
    "frame = np.zeros((4, 3, 3))\n",
    "sticky_pts = [(1,2,0), (3,1,1), (2,2,2)]\n",
    "for pt in sticky_pts:\n",
    "    frame[pt] = -1\n",
    "\n",
    "route(frame, (0, 0, 0), (3, 2, 2))"
   ]
  },
  {
   "cell_type": "code",
   "execution_count": null,
   "id": "df0c9788",
   "metadata": {},
   "outputs": [],
   "source": []
  },
  {
   "cell_type": "markdown",
   "id": "87f3fc3a-d550-40fa-aaf0-5b1fd659d2a8",
   "metadata": {},
   "source": [
    "**Example 2**: In this example, most of the intersections are sticky, so there is just one solution between `(0, 1, 1)` and `(3, 2, 1)`.\n",
    "\n",
    "<img src=\"http://www.coloradomath.org/python/grid3d.jpg\" width=\"428\" height=\"341\" style=\"display:block; margin:auto\" />\n",
    "\n",
    "```\n",
    "frame = np.full((4, 3, 3), -1)\n",
    "route_pts = [(0,0,0), (0,0,1), (0,1,1), (1,1,1), (2,1,1), \n",
    "             (2,1,0), (2,2,0), (3,2,0), (3,2,1), (3,2,2)]\n",
    "for pt in route_pts:\n",
    "    frame[pt] = 0\n",
    "    \n",
    "route(frame, (0, 1, 1), (3, 2, 1))\n",
    "``` \n",
    "returns\n",
    "```\n",
    "[(0, 1, 1), (1, 1, 1), (2, 1, 1), (2, 1, 0), (2, 2, 0), (3, 2, 0), (3, 2, 1)]\n",
    "```"
   ]
  },
  {
   "cell_type": "markdown",
   "id": "7bb567b6",
   "metadata": {},
   "source": [
    "* get a list of all the adjacent vertices \n",
    "* for v in adj_list, if not sticky, do DFS_visit from there move to one of them\n",
    "* "
   ]
  },
  {
   "cell_type": "code",
   "execution_count": null,
   "id": "051a83e2",
   "metadata": {},
   "outputs": [],
   "source": []
  },
  {
   "cell_type": "code",
   "execution_count": 6,
   "id": "1572176d",
   "metadata": {},
   "outputs": [],
   "source": [
    "# frame = np.full((4, 3, 3), -1)\n",
    "# route_pts = [(0,0,0), (0,0,1), (0,1,1), (1,1,1), (2,1,1), \n",
    "#              (2,1,0), (2,2,0), (3,2,0), (3,2,1), (3,2,2)]\n",
    "# for pt in route_pts:\n",
    "#     frame[pt] = 0\n",
    "    \n",
    "# coord = (2, 1, 1)\n",
    "# dest = (3,2,2)"
   ]
  },
  {
   "cell_type": "code",
   "execution_count": 7,
   "id": "9dbc3969",
   "metadata": {},
   "outputs": [
    {
     "data": {
      "text/plain": [
       "[(0, 0, 0),\n",
       " (0, 0, 1),\n",
       " (0, 1, 1),\n",
       " (1, 1, 1),\n",
       " (2, 1, 1),\n",
       " (2, 1, 0),\n",
       " (2, 2, 0),\n",
       " (3, 2, 0),\n",
       " (3, 2, 1),\n",
       " (3, 2, 2)]"
      ]
     },
     "execution_count": 7,
     "metadata": {},
     "output_type": "execute_result"
    }
   ],
   "source": [
    "frame = np.full((4, 3, 3), -1)\n",
    "route_pts = [(0,0,0), (0,0,1), (0,1,1), (1,1,1), (2,1,1), \n",
    "             (2,1,0), (2,2,0), (3,2,0), (3,2,1), (3,2,2)]\n",
    "for pt in route_pts:\n",
    "    frame[pt] = 0\n",
    "\n",
    "route(frame, (0,0,0), (3,2,2))"
   ]
  },
  {
   "cell_type": "code",
   "execution_count": 8,
   "id": "bf02f269",
   "metadata": {},
   "outputs": [
    {
     "data": {
      "text/plain": [
       "[(0, 1, 1), (1, 1, 1), (2, 1, 1), (2, 1, 0), (2, 2, 0), (3, 2, 0), (3, 2, 1)]"
      ]
     },
     "execution_count": 8,
     "metadata": {},
     "output_type": "execute_result"
    }
   ],
   "source": [
    "frame = np.full((4, 3, 3), -1)\n",
    "route_pts = [(0,0,0), (0,0,1), (0,1,1), (1,1,1), (2,1,1), \n",
    "             (2,1,0), (2,2,0), (3,2,0), (3,2,1), (3,2,2)]\n",
    "for pt in route_pts:\n",
    "    frame[pt] = 0\n",
    "\n",
    "route(frame, (0, 1, 1), (3, 2, 1))"
   ]
  },
  {
   "cell_type": "code",
   "execution_count": 9,
   "id": "1ef46f16",
   "metadata": {},
   "outputs": [
    {
     "data": {
      "text/plain": [
       "[(0, 1, 1), (1, 1, 1), (2, 1, 1), (2, 1, 0), (2, 2, 0), (3, 2, 0), (3, 2, 1)]"
      ]
     },
     "execution_count": 9,
     "metadata": {},
     "output_type": "execute_result"
    }
   ],
   "source": [
    "[(0, 1, 1), (1, 1, 1), (2, 1, 1), (2, 1, 0), (2, 2, 0), (3, 2, 0), (3, 2, 1)]"
   ]
  },
  {
   "cell_type": "code",
   "execution_count": null,
   "id": "bd233bc2",
   "metadata": {},
   "outputs": [],
   "source": []
  },
  {
   "cell_type": "code",
   "execution_count": null,
   "id": "a8cee68a",
   "metadata": {},
   "outputs": [],
   "source": []
  },
  {
   "cell_type": "code",
   "execution_count": null,
   "id": "0298c1f3",
   "metadata": {},
   "outputs": [],
   "source": []
  }
 ],
 "metadata": {
  "kernelspec": {
   "display_name": "Python 3 (ipykernel)",
   "language": "python",
   "name": "python3"
  },
  "language_info": {
   "codemirror_mode": {
    "name": "ipython",
    "version": 3
   },
   "file_extension": ".py",
   "mimetype": "text/x-python",
   "name": "python",
   "nbconvert_exporter": "python",
   "pygments_lexer": "ipython3",
   "version": "3.9.12"
  }
 },
 "nbformat": 4,
 "nbformat_minor": 5
}
