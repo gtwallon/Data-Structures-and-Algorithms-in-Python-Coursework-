{
 "cells": [
  {
   "cell_type": "markdown",
   "id": "1e0d0a59-2b6e-452c-aea5-86379787569c",
   "metadata": {
    "tags": []
   },
   "source": [
    "# HW 9\n",
    "___"
   ]
  },
  {
   "cell_type": "code",
   "execution_count": 1,
   "id": "4b95265f-c338-469c-9a4b-9d8f4d5a3ef9",
   "metadata": {},
   "outputs": [],
   "source": [
    "import numpy as np"
   ]
  },
  {
   "cell_type": "markdown",
   "id": "33ad2c74-ffe3-40c8-863e-603f4e1912d2",
   "metadata": {},
   "source": [
    "### Spelling Correction\n",
    "Suppose you type `blder` into a search engine. It will try to match your entry to common search terms. Perhaps you actually meant to type `boulder` or `bold` or `baller`. The search engine might guess the word you intended by calculating the fewest number of changes needed to convert your entry into a common search term. It can then ask 'Did you mean ...?'. For example, the calculations would find that\n",
    "\n",
    "* To convert `blder` into `boulder`, one can insert `o` and `u`, a total of 2 changes.\n",
    "* To convert `blder` into `bold`, one can insert `o` and omit `e` and `r`, a total of 3 changes.\n",
    "* To convert `blder` into `baller`, one can insert `a`, replace `d` with `l`, a total of 2 changes.\n",
    "\n",
    "Use dynamic programming to write a function **`string_convert(str1, str2)`** that takes two strings `str1` and `str2` and returns the minimum number of changes needed to convert `str1` to `str2` using the following operations:\n",
    "* **insert** which adds a character from `str2` to `str1`\n",
    "* **omit** which omits a character from `str1`\n",
    "* **replace** which replaces a character in `str1` with a character in `str2`\n",
    "* **`match`** which does not entail any changes. \n",
    "\n",
    "The function also should print the operations that correspond to the minimum number of changes.\n",
    "\n",
    "Example:<br>\n",
    "`string_convert('bffflooo', 'buffalo')` might print\n",
    "```\n",
    "match   b\n",
    "replace u\n",
    "match   f\n",
    "match   f\n",
    "insert  a\n",
    "match   l\n",
    "match   o\n",
    "omit    o\n",
    "omit    o\n",
    "```\n",
    "and return `4`. There are other solutions with 4 moves."
   ]
  },
  {
   "cell_type": "code",
   "execution_count": 16,
   "id": "7d9899eb",
   "metadata": {},
   "outputs": [],
   "source": [
    "str1 = 'bffflooo'\n",
    "str2 = 'buffalo'"
   ]
  },
  {
   "cell_type": "code",
   "execution_count": 17,
   "id": "977d4e1a",
   "metadata": {},
   "outputs": [],
   "source": [
    "m = len(str1)\n",
    "n = len(str2)\n",
    "\n",
    "\n",
    "# initialize matrices of the right sizes\n",
    "zeros = [0]*(n+1)\n",
    "c1 = np.array([zeros for _ in range(m+1)])\n",
    "b1 = np.array([zeros for _ in range(m+1)])\n",
    "\n",
    "\n",
    "# populate the two matrices\n",
    "for i in range(m+1):\n",
    "    c1[i,0] = i\n",
    "for j in range(n+1):\n",
    "    c1[0,j] = j\n",
    "\n",
    "for i in range(1, m+1):\n",
    "    for j in range(1, n+1):\n",
    "        if str1[i-1] == str2[j-1]:      #MATCH\n",
    "            c1[i, j] = c1[i-1,j-1]\n",
    "            b1[i, j] = 4 #'NWArrow_Match'\n",
    "\n",
    "        elif c1[i-1,j] == c1[i,j-1]:       #REPLACE\n",
    "            c1[i, j] = c1[i-1,j-1] + 1\n",
    "            b1[i, j] = 3 #'NWArrow_Replace'\n",
    "\n",
    "        elif c1[i-1,j] < c1[i,j-1]:      #OMIT\n",
    "            c1[i,j] = c1[i-1,j] + 1\n",
    "            b1[i,j] = 2 #'UpArrow'\n",
    "\n",
    "        else:                          #INSERT\n",
    "            c1[i,j] = c1[i,j-1] + 1\n",
    "            b1[i,j] = 1 #'LeftArrow'"
   ]
  },
  {
   "cell_type": "code",
   "execution_count": 18,
   "id": "ae2e8d75",
   "metadata": {
    "scrolled": true
   },
   "outputs": [
    {
     "data": {
      "text/plain": [
       "array([[0, 0, 0, 0, 0, 0, 0, 0],\n",
       "       [0, 4, 1, 1, 1, 1, 1, 1],\n",
       "       [0, 2, 3, 4, 4, 1, 1, 1],\n",
       "       [0, 2, 2, 4, 4, 1, 1, 1],\n",
       "       [0, 2, 2, 4, 4, 1, 1, 1],\n",
       "       [0, 2, 2, 2, 2, 3, 4, 1],\n",
       "       [0, 2, 2, 2, 2, 2, 2, 4],\n",
       "       [0, 2, 2, 2, 2, 2, 2, 4],\n",
       "       [0, 2, 2, 2, 2, 2, 2, 4]])"
      ]
     },
     "execution_count": 18,
     "metadata": {},
     "output_type": "execute_result"
    }
   ],
   "source": [
    "b1"
   ]
  },
  {
   "cell_type": "code",
   "execution_count": 19,
   "id": "0a6ccfdc",
   "metadata": {},
   "outputs": [],
   "source": [
    "m = len(str1)\n",
    "n = len(str2)\n",
    "\n",
    "\n",
    "# initialize matrices of the right sizes\n",
    "zeros = [0]*(n+1)\n",
    "c = np.array([zeros for _ in range(m+1)])\n",
    "b = np.array([zeros for _ in range(m+1)])\n",
    "\n",
    "\n",
    "# populate the two matrices\n",
    "for i in range(m+1):\n",
    "    c[i,0] = i\n",
    "for j in range(n+1):\n",
    "    c[0,j] = j\n",
    "\n",
    "for i in range(1, m+1):\n",
    "    for j in range(1, n+1):\n",
    "        if str1[i-1] == str2[j-1]:      #MATCH\n",
    "            c[i, j] = c[i-1,j-1]\n",
    "            b[i, j] = 4 #'NWArrow_Match'\n",
    "\n",
    "        elif i == j:       #REPLACE\n",
    "            c[i, j] = c[i-1,j-1] + 1\n",
    "            b[i, j] = 3 #'NWArrow_Replace'\n",
    "\n",
    "        elif i > j:      #OMIT\n",
    "            c[i,j] = c[i-1,j] + 1\n",
    "            b[i,j] = 2 #'UpArrow'\n",
    "\n",
    "        else:                          #INSERT\n",
    "            c[i,j] = c[i,j-1] + 1\n",
    "            b[i,j] = 1 #'LeftArrow'"
   ]
  },
  {
   "cell_type": "code",
   "execution_count": 20,
   "id": "d6807210",
   "metadata": {},
   "outputs": [
    {
     "data": {
      "text/plain": [
       "array([[0, 0, 0, 0, 0, 0, 0, 0],\n",
       "       [0, 4, 1, 1, 1, 1, 1, 1],\n",
       "       [0, 2, 3, 4, 4, 1, 1, 1],\n",
       "       [0, 2, 2, 4, 4, 1, 1, 1],\n",
       "       [0, 2, 2, 4, 4, 1, 1, 1],\n",
       "       [0, 2, 2, 2, 2, 3, 4, 1],\n",
       "       [0, 2, 2, 2, 2, 2, 3, 4],\n",
       "       [0, 2, 2, 2, 2, 2, 2, 4],\n",
       "       [0, 2, 2, 2, 2, 2, 2, 4]])"
      ]
     },
     "execution_count": 20,
     "metadata": {},
     "output_type": "execute_result"
    }
   ],
   "source": [
    "b"
   ]
  },
  {
   "cell_type": "code",
   "execution_count": null,
   "id": "da68c9db",
   "metadata": {},
   "outputs": [],
   "source": []
  },
  {
   "cell_type": "code",
   "execution_count": 12,
   "id": "c79f2a18",
   "metadata": {
    "scrolled": true
   },
   "outputs": [
    {
     "data": {
      "text/plain": [
       "array([[ True,  True,  True,  True,  True,  True,  True,  True],\n",
       "       [ True,  True,  True,  True,  True,  True,  True,  True],\n",
       "       [ True,  True,  True,  True,  True,  True,  True,  True],\n",
       "       [ True,  True,  True,  True,  True,  True,  True,  True],\n",
       "       [ True,  True,  True,  True,  True,  True,  True,  True],\n",
       "       [ True,  True,  True,  True,  True,  True,  True,  True],\n",
       "       [ True,  True,  True,  True,  True,  True, False,  True],\n",
       "       [ True,  True,  True,  True,  True,  True,  True,  True],\n",
       "       [ True,  True,  True,  True,  True,  True,  True,  True]])"
      ]
     },
     "execution_count": 12,
     "metadata": {},
     "output_type": "execute_result"
    }
   ],
   "source": [
    "b==b1"
   ]
  },
  {
   "cell_type": "code",
   "execution_count": null,
   "id": "c37f83f4",
   "metadata": {},
   "outputs": [],
   "source": []
  },
  {
   "cell_type": "code",
   "execution_count": 13,
   "id": "f9a85e5e",
   "metadata": {},
   "outputs": [],
   "source": [
    "def print_changes(b, str1, str2, i, j):\n",
    "    if i==0 or j==0:\n",
    "        return None\n",
    "    if b[i,j] == 4:                 #'NWArrow_Match'\n",
    "        print_changes(b, str1, str2, i-1, j-1)\n",
    "        print(f'match    {str1[i-1]}')\n",
    "\n",
    "    elif b[i,j] == 3:               #'NWArrow_Replace'\n",
    "        print_changes(b, str1, str2, i-1, j-1)\n",
    "        print(f'replace  {str2[j-1]}')\n",
    "\n",
    "    elif b[i,j] == 2:               #'UpArrow'\n",
    "        print_changes(b, str1, str2, i-1, j)\n",
    "        print(f'omit     {str1[i-1]}')\n",
    "\n",
    "    else:                           #'LeftArrow'\n",
    "        print_changes(b, str1, str2, i, j-1)\n",
    "        print(f'insert   {str2[j-1]}')"
   ]
  },
  {
   "cell_type": "code",
   "execution_count": 14,
   "id": "a2434c07",
   "metadata": {},
   "outputs": [
    {
     "name": "stdout",
     "output_type": "stream",
     "text": [
      "match    b\n",
      "replace  u\n",
      "match    f\n",
      "match    f\n",
      "insert   a\n",
      "match    l\n",
      "omit     o\n",
      "omit     o\n",
      "match    o\n"
     ]
    }
   ],
   "source": [
    "print_changes(b1, 'bffflooo', 'buffalo', 8, 7)"
   ]
  },
  {
   "cell_type": "code",
   "execution_count": 21,
   "id": "950ac5b3",
   "metadata": {},
   "outputs": [
    {
     "data": {
      "text/plain": [
       "4"
      ]
     },
     "execution_count": 21,
     "metadata": {},
     "output_type": "execute_result"
    }
   ],
   "source": [
    "c1[8,7]"
   ]
  },
  {
   "cell_type": "code",
   "execution_count": 22,
   "id": "7ec41584",
   "metadata": {},
   "outputs": [
    {
     "name": "stdout",
     "output_type": "stream",
     "text": [
      "match    b\n",
      "replace  u\n",
      "match    f\n",
      "match    f\n",
      "replace  a\n",
      "replace  l\n",
      "omit     o\n",
      "match    o\n"
     ]
    }
   ],
   "source": [
    "print_changes(b, 'bffflooo', 'buffalo', 8, 7)"
   ]
  },
  {
   "cell_type": "code",
   "execution_count": 23,
   "id": "4a300e3e",
   "metadata": {},
   "outputs": [
    {
     "data": {
      "text/plain": [
       "4"
      ]
     },
     "execution_count": 23,
     "metadata": {},
     "output_type": "execute_result"
    }
   ],
   "source": [
    "c[8,7]"
   ]
  },
  {
   "cell_type": "code",
   "execution_count": null,
   "id": "3705850a",
   "metadata": {},
   "outputs": [],
   "source": []
  },
  {
   "cell_type": "code",
   "execution_count": null,
   "id": "b9d2f0fb",
   "metadata": {},
   "outputs": [],
   "source": []
  },
  {
   "cell_type": "code",
   "execution_count": null,
   "id": "15419ef9",
   "metadata": {},
   "outputs": [],
   "source": []
  },
  {
   "cell_type": "code",
   "execution_count": null,
   "id": "458e482d",
   "metadata": {},
   "outputs": [],
   "source": []
  },
  {
   "cell_type": "code",
   "execution_count": null,
   "id": "6da1b896",
   "metadata": {},
   "outputs": [],
   "source": []
  },
  {
   "cell_type": "markdown",
   "id": "762c635a",
   "metadata": {},
   "source": [
    "### String Convert Function"
   ]
  },
  {
   "cell_type": "code",
   "execution_count": 174,
   "id": "8b855b20",
   "metadata": {},
   "outputs": [],
   "source": [
    "def string_convert(str1, str2):\n",
    "    m = len(str1)\n",
    "    n = len(str2)\n",
    "\n",
    "\n",
    "    # initialize matrices of the right sizes\n",
    "    zeros = [0]*(n+1)\n",
    "    c = np.array([zeros for _ in range(m+1)])\n",
    "    b = np.array([zeros for _ in range(m+1)])\n",
    "\n",
    "\n",
    "    # populate the two matrices\n",
    "    for i in range(m+1):\n",
    "        c[i,0] = i\n",
    "    for j in range(n+1):\n",
    "        c[0,j] = j\n",
    "\n",
    "    for i in range(1, m+1):\n",
    "        for j in range(1, n+1):\n",
    "            if str1[i-1] == str2[j-1]:      #MATCH\n",
    "                c[i, j] = c[i-1,j-1]\n",
    "                b[i, j] = 4 #'NWArrow_Match'\n",
    "\n",
    "            elif c[i-1,j] == c[i,j-1]:       #REPLACE\n",
    "                c[i, j] = c[i-1,j-1] + 1\n",
    "                b[i, j] = 3 #'NWArrow_Replace'\n",
    "\n",
    "            elif c[i-1,j] < c[i,j-1]:      #OMIT\n",
    "                c[i,j] = c[i-1,j] + 1\n",
    "                b[i,j] = 2 #'UpArrow'\n",
    "\n",
    "            else:                          #INSERT\n",
    "                c[i,j] = c[i,j-1] + 1\n",
    "                b[i,j] = 1 #'LeftArrow'\n",
    "\n",
    "\n",
    "        def print_changes(b, str1, str2, i, j):\n",
    "            if i==0 or j==0:\n",
    "                return None\n",
    "            if b[i,j] == 4:                 #'NWArrow_Match'\n",
    "                print_changes(b, str1, str2, i-1, j-1)\n",
    "                print(f'match    {str1[i-1]}')\n",
    "\n",
    "            elif b[i,j] == 3:               #'NWArrow_Replace'\n",
    "                print_changes(b, str1, str2, i-1, j-1)\n",
    "                print(f'replace  {str2[j-1]}')\n",
    "\n",
    "            elif b[i,j] == 2:               #'UpArrow'\n",
    "                print_changes(b, str1, str2, i-1, j)\n",
    "                print(f'omit     {str1[i-1]}')\n",
    "\n",
    "            else:                           #'LeftArrow'\n",
    "                print_changes(b, str1, str2, i, j-1)\n",
    "                print(f'insert   {str2[j-1]}')\n",
    "\n",
    "    print_changes(b, str1, str2, m, n)\n",
    "            \n",
    "    return c[m,n]"
   ]
  },
  {
   "cell_type": "code",
   "execution_count": 175,
   "id": "efafbff2",
   "metadata": {
    "scrolled": true
   },
   "outputs": [
    {
     "name": "stdout",
     "output_type": "stream",
     "text": [
      "match    b\n",
      "replace  u\n",
      "match    f\n",
      "match    f\n",
      "insert   a\n",
      "match    l\n",
      "omit     o\n",
      "omit     o\n",
      "match    o\n"
     ]
    },
    {
     "data": {
      "text/plain": [
       "4"
      ]
     },
     "execution_count": 175,
     "metadata": {},
     "output_type": "execute_result"
    }
   ],
   "source": [
    "string_convert('bffflooo', 'buffalo')"
   ]
  },
  {
   "cell_type": "code",
   "execution_count": 169,
   "id": "9b4d1ece",
   "metadata": {},
   "outputs": [
    {
     "name": "stdout",
     "output_type": "stream",
     "text": [
      "match    b\n",
      "insert   o\n",
      "insert   u\n",
      "match    l\n",
      "match    d\n",
      "match    e\n",
      "match    r\n"
     ]
    },
    {
     "data": {
      "text/plain": [
       "2"
      ]
     },
     "execution_count": 169,
     "metadata": {},
     "output_type": "execute_result"
    }
   ],
   "source": [
    "string_convert('blder', 'boulder')"
   ]
  },
  {
   "cell_type": "code",
   "execution_count": 170,
   "id": "d8c7b6c0",
   "metadata": {
    "scrolled": true
   },
   "outputs": [
    {
     "name": "stdout",
     "output_type": "stream",
     "text": [
      "match    b\n",
      "insert   a\n",
      "match    l\n",
      "replace  l\n",
      "match    e\n",
      "match    r\n"
     ]
    },
    {
     "data": {
      "text/plain": [
       "2"
      ]
     },
     "execution_count": 170,
     "metadata": {},
     "output_type": "execute_result"
    }
   ],
   "source": [
    "string_convert('blder', 'baller')"
   ]
  },
  {
   "cell_type": "code",
   "execution_count": 171,
   "id": "0192f346",
   "metadata": {
    "scrolled": true
   },
   "outputs": [
    {
     "name": "stdout",
     "output_type": "stream",
     "text": [
      "match    b\n",
      "insert   o\n",
      "match    l\n",
      "match    d\n",
      "omit     e\n",
      "omit     r\n"
     ]
    },
    {
     "data": {
      "text/plain": [
       "3"
      ]
     },
     "execution_count": 171,
     "metadata": {},
     "output_type": "execute_result"
    }
   ],
   "source": [
    "string_convert('blder', 'bold')"
   ]
  },
  {
   "cell_type": "code",
   "execution_count": 181,
   "id": "6082f653",
   "metadata": {
    "scrolled": true
   },
   "outputs": [
    {
     "name": "stdout",
     "output_type": "stream",
     "text": [
      "replace  G\n",
      "replace  T\n",
      "match    C\n",
      "match    G\n",
      "replace  T\n",
      "match    T\n",
      "match    C\n",
      "insert   G\n",
      "match    G\n",
      "match    A\n",
      "replace  A\n",
      "match    T\n",
      "match    G\n",
      "match    C\n",
      "omit     G\n",
      "match    C\n",
      "match    G\n",
      "replace  T\n",
      "replace  T\n",
      "omit     A\n",
      "match    G\n",
      "match    C\n",
      "insert   T\n",
      "match    C\n",
      "replace  T\n",
      "match    G\n",
      "replace  T\n",
      "replace  A\n",
      "omit     G\n",
      "match    A\n",
      "match    A\n"
     ]
    },
    {
     "data": {
      "text/plain": [
       "14"
      ]
     },
     "execution_count": 181,
     "metadata": {},
     "output_type": "execute_result"
    }
   ],
   "source": [
    "string_convert('ACCGGTCGAGTGCGCGGAAGCCGGCCGAA', 'GTCGTTCGGAATGCCGTTGCTCTGTAAA')"
   ]
  },
  {
   "cell_type": "code",
   "execution_count": null,
   "id": "a8475a20",
   "metadata": {},
   "outputs": [],
   "source": []
  },
  {
   "cell_type": "code",
   "execution_count": null,
   "id": "d985dcd1",
   "metadata": {},
   "outputs": [],
   "source": []
  },
  {
   "cell_type": "markdown",
   "id": "557a7bc1",
   "metadata": {},
   "source": [
    "# 0-1 Knapsack Problem\n",
    "\n",
    "Ralphie has been declared the winner of a contest. She is given a choice of $n$ possible prizes. The $i$th prize is worth $v_i$ dollars and weighs $w_i$ pounds, where $v_i$ and $w_i$ are integers. Ralphie is given a bag to fill with as many prizes as she can carry away. If Ralphie wants to maximize the total value of her winnings and she can lift at most $W$ pounds, which prizes should she select?"
   ]
  },
  {
   "cell_type": "code",
   "execution_count": null,
   "id": "99b6a945",
   "metadata": {},
   "outputs": [],
   "source": [
    "def knapsack(wgts, vals, max_wgt):\n",
    "    '''Given weights and values for n items, along with a max weight,\n",
    "       determine the max total value and corresponding weight'''\n",
    "    \n",
    "    n = len(wgts)\n",
    "    \n",
    "    # Initialize an (n+1) by (max_wgt+1) table to zeros. \n",
    "    # Row 0 and col 0 will remain zeros.    \n",
    "    knapval = np.zeros((n+1, max_wgt+1), dtype=int)\n",
    "    \n",
    "    \n",
    "    '''The max value you can get from 6 items with a max weight of 1 is the max value item that is 1 pound'''\n",
    "    '''The max value you can get from 6 items with a max weight of 2 is the max value of any 2 1 pound items or 1\n",
    "    2 pound item'''\n",
    "\n",
    "    for i in range(1, n+1):\n",
    "        for j in range(1, max_wgt+1):\n",
    "            "
   ]
  },
  {
   "cell_type": "code",
   "execution_count": 6,
   "id": "ece1e417",
   "metadata": {},
   "outputs": [
    {
     "data": {
      "text/plain": [
       "array([[0., 0., 0., 0., 0., 0., 0., 0., 0., 0.],\n",
       "       [0., 0., 0., 0., 0., 0., 0., 0., 0., 0.],\n",
       "       [0., 0., 0., 0., 0., 0., 0., 0., 0., 0.],\n",
       "       [0., 0., 0., 0., 0., 0., 0., 0., 0., 0.],\n",
       "       [0., 0., 0., 0., 0., 0., 0., 0., 0., 0.],\n",
       "       [0., 0., 0., 0., 0., 0., 0., 0., 0., 0.],\n",
       "       [0., 0., 0., 0., 0., 0., 0., 0., 0., 0.],\n",
       "       [0., 0., 0., 0., 0., 0., 0., 0., 0., 0.],\n",
       "       [0., 0., 0., 0., 0., 0., 0., 0., 0., 0.],\n",
       "       [0., 0., 0., 0., 0., 0., 0., 0., 0., 0.]])"
      ]
     },
     "execution_count": 6,
     "metadata": {},
     "output_type": "execute_result"
    }
   ],
   "source": [
    "np.zeros((10, 10))"
   ]
  },
  {
   "cell_type": "code",
   "execution_count": null,
   "id": "a419437c",
   "metadata": {},
   "outputs": [],
   "source": []
  },
  {
   "cell_type": "code",
   "execution_count": null,
   "id": "107a30d7",
   "metadata": {},
   "outputs": [],
   "source": []
  },
  {
   "cell_type": "code",
   "execution_count": null,
   "id": "965c9f36",
   "metadata": {},
   "outputs": [],
   "source": []
  },
  {
   "cell_type": "markdown",
   "id": "60632297",
   "metadata": {},
   "source": [
    "### LCS Helper Function"
   ]
  },
  {
   "cell_type": "code",
   "execution_count": 182,
   "id": "5d3a2b74",
   "metadata": {},
   "outputs": [],
   "source": [
    "# def lcs(str1, str2):\n",
    "#     m = len(str1)\n",
    "#     n = len(str2)\n",
    "\n",
    "#     # initialize matrices of the right sizes\n",
    "#     zeros = [0]*(n+1)\n",
    "#     c = np.array([zeros for _ in range(m+1)])\n",
    "#     b = np.array([zeros for _ in range(m+1)])\n",
    "    \n",
    "#     # populate the two matrices\n",
    "#     for i in range(1, m+1):\n",
    "#         for j in range(1, n+1):\n",
    "#             if str1[i-1] == str2[j-1]:\n",
    "#                 c[i, j] = c[i-1,j-1] + 1\n",
    "#                 b[i, j] = 3 #'NWArrow'\n",
    "#             elif c[i-1,j] >= c[i,j-1]:\n",
    "#                 c[i,j] = c[i-1,j]\n",
    "#                 b[i,j] = 2 #'UpArrow'\n",
    "#             else:\n",
    "#                 c[i,j] = c[i,j-1]\n",
    "#                 b[i,j] = 1 #'LeftArrow'\n",
    "    \n",
    "#     return form_lcs(b, str1, m, n)"
   ]
  },
  {
   "cell_type": "code",
   "execution_count": null,
   "id": "3b04d56d",
   "metadata": {},
   "outputs": [],
   "source": []
  },
  {
   "cell_type": "code",
   "execution_count": null,
   "id": "cb19e8cd",
   "metadata": {},
   "outputs": [],
   "source": []
  },
  {
   "cell_type": "code",
   "execution_count": null,
   "id": "84e4846b",
   "metadata": {},
   "outputs": [],
   "source": []
  },
  {
   "cell_type": "code",
   "execution_count": null,
   "id": "f4bc5cc2",
   "metadata": {},
   "outputs": [],
   "source": []
  },
  {
   "cell_type": "code",
   "execution_count": null,
   "id": "3c9f778b",
   "metadata": {},
   "outputs": [],
   "source": []
  },
  {
   "cell_type": "code",
   "execution_count": null,
   "id": "dd39be69",
   "metadata": {},
   "outputs": [],
   "source": []
  }
 ],
 "metadata": {
  "kernelspec": {
   "display_name": "Python 3 (ipykernel)",
   "language": "python",
   "name": "python3"
  },
  "language_info": {
   "codemirror_mode": {
    "name": "ipython",
    "version": 3
   },
   "file_extension": ".py",
   "mimetype": "text/x-python",
   "name": "python",
   "nbconvert_exporter": "python",
   "pygments_lexer": "ipython3",
   "version": "3.9.12"
  }
 },
 "nbformat": 4,
 "nbformat_minor": 5
}
