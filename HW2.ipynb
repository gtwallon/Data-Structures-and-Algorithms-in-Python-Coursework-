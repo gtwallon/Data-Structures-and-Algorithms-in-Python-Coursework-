{
 "cells": [
  {
   "cell_type": "markdown",
   "id": "6666cd31-e76f-4ed5-94f4-3ea12d7e5d77",
   "metadata": {
    "tags": []
   },
   "source": [
    "# HW 2\n",
    "\n",
    "**Upload two files** to Gradescope: \n",
    "* `HW2.py` (which will be autograded)\n",
    "* `HW2.ipynb` (run all cells to make sure that outputs are visible, especially plots)\n",
    "\n",
    "**Reminder:** For the assignments in this course, **you must write your own code**. Copying code from the internet or other sources is not allowed. Using Python functions that have not been covered in class may make exercises easier than intended. Please ask if you are not sure what is allowed.\n",
    "\n",
    "___"
   ]
  },
  {
   "cell_type": "code",
   "execution_count": 1,
   "id": "0bba2eb9-1817-4bdb-a953-bedc2cefd8a9",
   "metadata": {},
   "outputs": [],
   "source": [
    "import math\n",
    "import random\n",
    "import numpy as np\n",
    "import time\n",
    "import matplotlib.pyplot as plt"
   ]
  },
  {
   "cell_type": "markdown",
   "id": "855ba54a-b06b-49e2-83bb-a415c4733267",
   "metadata": {},
   "source": [
    "### Asymptotic Notation\n",
    "\n",
    "Let $f(n) = (\\log n)^{10}$. Determine whether $f(n)$ is $$\\Theta(g(n)),\\quad O(g(n)),\\quad o(g(n)),\\quad \\Omega(g(n)),\\quad \\omega(g(n))$$\n",
    "for each of the following $g(n)$. Uncomment the statements below and assign the value of `True` or `False` to each variable. Justification is not necessary.\n",
    "\n",
    "* $g_1(n) = n\\log n$"
   ]
  },
  {
   "cell_type": "code",
   "execution_count": 2,
   "id": "f17ede2d-264c-40ab-aa70-9effecac3f84",
   "metadata": {},
   "outputs": [],
   "source": [
    "f_is_Theta_g1 = False\n",
    "f_is_Big_O_g1 = True\n",
    "f_is_Little_o_g1 = True\n",
    "f_is_Big_Omega_g1 = False\n",
    "f_is_Little_omega_g1 = False"
   ]
  },
  {
   "cell_type": "markdown",
   "id": "3704fbdc-be58-4eac-b753-fdec4e8ab461",
   "metadata": {},
   "source": [
    "* $g_2(n) = \\log n^{10}$"
   ]
  },
  {
   "cell_type": "code",
   "execution_count": 3,
   "id": "c1b699e7-4f53-44b3-89d4-92fed6812509",
   "metadata": {},
   "outputs": [],
   "source": [
    "f_is_Theta_g2 = False\n",
    "f_is_Big_O_g2 = False\n",
    "f_is_Little_o_g2 = False\n",
    "f_is_Big_Omega_g2 = True\n",
    "f_is_Little_omega_g2 = True"
   ]
  },
  {
   "cell_type": "markdown",
   "id": "3cbf3525-3e7c-4c5d-821c-7e5193cacecb",
   "metadata": {},
   "source": [
    "* $g_3(n) = (\\log n)^{9} + (\\log n)^8$"
   ]
  },
  {
   "cell_type": "code",
   "execution_count": 4,
   "id": "64ca1981-6595-4f26-b8a7-4dd5c085264d",
   "metadata": {},
   "outputs": [],
   "source": [
    "f_is_Theta_g3 = False\n",
    "f_is_Big_O_g3 = False\n",
    "f_is_Little_o_g3 = False\n",
    "f_is_Big_Omega_g3 = True\n",
    "f_is_Little_omega_g3 = True"
   ]
  },
  {
   "cell_type": "markdown",
   "id": "be9bd294-d81e-4f0f-9fc0-ffb0295c6424",
   "metadata": {},
   "source": [
    "### Function Exceed Threshold\n",
    "Suppose `func(n)` is a monotonically increasing function. We wish to find the largest integer `n` such that `func(n)` is less than or equal to a given threshold. (Assume the function exceeds the threshold for some `n`.)\n",
    "\n",
    "**Version 1:** Write a function **`exceed_func1(func, thresh)`** that finds the largest `n` by examining the positive integers 1, 2, ..., in order, one at a time. \n",
    "\n",
    "Example:  \n",
    "```\n",
    "func = lambda n: n**3\n",
    "exceed_func1(func, 10**6)\n",
    "``` \n",
    "returns `100` because it is the largest integer that satisfies $n^3 \\le 10^6$."
   ]
  },
  {
   "cell_type": "code",
   "execution_count": 5,
   "id": "a51a2cd3-94f4-41b2-b96f-64b3e4bdcecd",
   "metadata": {},
   "outputs": [],
   "source": [
    "def exceed_func1(func, thresh):\n",
    "    n = 1\n",
    "    while func(n) <= thresh:\n",
    "        n += 1\n",
    "    \n",
    "    return n - 1"
   ]
  },
  {
   "cell_type": "code",
   "execution_count": 6,
   "id": "8e0e1f59-7606-486c-8e2b-b75cf9c2b3dc",
   "metadata": {},
   "outputs": [
    {
     "data": {
      "text/plain": [
       "4"
      ]
     },
     "execution_count": 6,
     "metadata": {},
     "output_type": "execute_result"
    }
   ],
   "source": [
    "func = lambda n: n**3\n",
    "exceed_func1(func, 100)"
   ]
  },
  {
   "cell_type": "code",
   "execution_count": 7,
   "id": "7c91674f-fee7-47c9-80b3-4098b4728b21",
   "metadata": {},
   "outputs": [
    {
     "data": {
      "text/plain": [
       "100"
      ]
     },
     "execution_count": 7,
     "metadata": {},
     "output_type": "execute_result"
    }
   ],
   "source": [
    "func = lambda n: n**3\n",
    "exceed_func1(func, 10**6)"
   ]
  },
  {
   "cell_type": "markdown",
   "id": "90d1029b-dece-481f-9ecd-2ff2822f464c",
   "metadata": {},
   "source": [
    "**Version 2:** A quicker way to find the largest `n` is to first find the interval $\\left[2^k, 2^{k+1}\\right]$, bounded by consecutive powers of 2, that contains `n`, then examine only the integers in that interval. Assume $k\\ge 1$. Write a function **exceed_func2(func, thresh)** that uses this method to return the answer."
   ]
  },
  {
   "cell_type": "code",
   "execution_count": 8,
   "id": "a71bd740-e156-438e-8477-ebb2ee2dd6b1",
   "metadata": {},
   "outputs": [],
   "source": [
    "def exceed_func2(func, thresh):\n",
    "    # first find the interval bounded by powers of 2 that encloses n\n",
    "    bound = 1\n",
    "    while func(bound) <= thresh:\n",
    "        bound *= 2\n",
    "        \n",
    "    low = bound // 2\n",
    "    high = bound\n",
    "    \n",
    "    for n in range(low, high+1):\n",
    "        if func(n) > thresh:\n",
    "            break\n",
    "    \n",
    "    return n - 1"
   ]
  },
  {
   "cell_type": "code",
   "execution_count": 9,
   "id": "1954b0a8",
   "metadata": {},
   "outputs": [
    {
     "data": {
      "text/plain": [
       "1"
      ]
     },
     "execution_count": 9,
     "metadata": {},
     "output_type": "execute_result"
    }
   ],
   "source": [
    "T_2 = lambda n: 10**6 * (n**(1/2))\n",
    "exceed_func2(T_2, 10**6)"
   ]
  },
  {
   "cell_type": "code",
   "execution_count": 10,
   "id": "18d0fde4",
   "metadata": {},
   "outputs": [
    {
     "data": {
      "text/plain": [
       "1002"
      ]
     },
     "execution_count": 10,
     "metadata": {},
     "output_type": "execute_result"
    }
   ],
   "source": [
    "T_3 = lambda n: 100*n*math.log2(n)\n",
    "exceed_func2(T_3, 10**6)"
   ]
  },
  {
   "cell_type": "code",
   "execution_count": 11,
   "id": "d0c8d5c3-304b-4019-9c16-7942f85ad49c",
   "metadata": {},
   "outputs": [
    {
     "data": {
      "text/plain": [
       "100"
      ]
     },
     "execution_count": 11,
     "metadata": {},
     "output_type": "execute_result"
    }
   ],
   "source": [
    "func = lambda n: n**3\n",
    "exceed_func2(func, 10**6)"
   ]
  },
  {
   "cell_type": "code",
   "execution_count": 12,
   "id": "ad6ebc21-cefa-440a-ae2d-2dd60fd3eaee",
   "metadata": {
    "tags": []
   },
   "outputs": [
    {
     "data": {
      "text/plain": [
       "2777777"
      ]
     },
     "execution_count": 12,
     "metadata": {},
     "output_type": "execute_result"
    }
   ],
   "source": [
    "func = lambda n: 6*n**0.5\n",
    "exceed_func2(func, 10**4)"
   ]
  },
  {
   "cell_type": "markdown",
   "id": "2fa5887e-0f95-45f0-95bc-d313e1a5afd1",
   "metadata": {},
   "source": [
    "### Comparison of Input Sizes for Different $T(n)$ Functions\n",
    "Suppose an algorithm can solve a problem in $T(n)$ microseconds for input size $n$. (A *microsecond* is a millionth of a second.) Each of the following $T(n)$ functions corresponds to the running time for an algorithm:\n",
    "\n",
    "$$\\begin{align*}\n",
    "  T_1(n) &= n^3\\\\\n",
    "  T_2(n) &= 10^6\\sqrt n\\\\\n",
    "  T_3(n) &= 100n\\log_2(n)\\\\\n",
    "  T_4(n) &= 10n^2\\\\\n",
    "  T_5(n) &= n^2\\log_2(n)\\\\\n",
    "  T_6(n) &= (1.1)^n\\\\\n",
    "  T_7(n) &= n!\n",
    "\\end{align*}$$\n",
    "\n",
    "**For each $T(n)$, determine the largest input size $n$ that can be solved in 1 second, 1 minute, or 1 hour.**\n",
    "\n",
    "Example: Consider $T_1(n)=n^3$. If $n\\le 100$, then $T_1(n) \\le 10^6$ microseconds, so the running time will be no more than 1 second. Similarly, if $n\\le 391$, then $T_1(n) \\le 60\\cdot 10^6$ microseconds, so the running time will be no more than 1 minute.\n",
    "\n",
    "**Write code to generate a table** like the one below, **calculating the missing entries** by calling `exceed_func2`. It is not necessary to exactly match the format of the table. (*Hint:* You may wish to use `math.log2()` and `math.factorial()`.)\n",
    "\n",
    "```\n",
    "  T(n)     1 second    1 minute      1 hour\n",
    "--------------------------------------------\n",
    "  T_1        100          391         \n",
    "  T_2\n",
    "  T_3\n",
    "  T_4\n",
    "  T_5\n",
    "  T_6\n",
    "  T_7\n",
    "```\n",
    "\n"
   ]
  },
  {
   "cell_type": "code",
   "execution_count": 13,
   "id": "b158973f",
   "metadata": {},
   "outputs": [],
   "source": [
    "T_1 = lambda n: n**3\n",
    "T_2 = lambda n: 10**6 * (n**(1/2))\n",
    "T_3 = lambda n: 100*n*math.log2(n)\n",
    "T_4 = lambda n: 10*n**2\n",
    "T_5 = lambda n: n**2*math.log2(n)\n",
    "T_6 = lambda n: 1.1**n\n",
    "T_7 = lambda n: math.factorial(n)\n",
    "func_lst = [T_1, T_2, T_3, T_4, T_5, T_6, T_7]"
   ]
  },
  {
   "cell_type": "code",
   "execution_count": 14,
   "id": "7d951499",
   "metadata": {},
   "outputs": [
    {
     "data": {
      "text/plain": [
       "True"
      ]
     },
     "execution_count": 14,
     "metadata": {},
     "output_type": "execute_result"
    }
   ],
   "source": [
    "T_2(1) <= 10**6"
   ]
  },
  {
   "cell_type": "code",
   "execution_count": 15,
   "id": "737a1a3e",
   "metadata": {},
   "outputs": [],
   "source": [
    "n_dict = {}\n",
    "i = 1\n",
    "for T in func_lst:\n",
    "    sec_n = exceed_func2(T, 10**6)\n",
    "    min_n = exceed_func2(T, 60*10**6)\n",
    "    hour_n = exceed_func2(T, 60*60*10**6)\n",
    "    n_dict[f'T_{i}'] = (sec_n, min_n, hour_n)\n",
    "    i += 1"
   ]
  },
  {
   "cell_type": "code",
   "execution_count": 16,
   "id": "6b39cb2d",
   "metadata": {
    "scrolled": true
   },
   "outputs": [
    {
     "name": "stdout",
     "output_type": "stream",
     "text": [
      "  T(n)     1 second    1 minute      1 hour \n",
      "--------------------------------------------\n",
      "  T_1        100           391         1532\n",
      "  T_2          1          3600     12960000\n",
      "  T_3       1002         39311      1736782\n",
      "  T_4        316          2449        18973\n",
      "  T_5        344          2316        16052\n",
      "  T_6        144           187          230\n",
      "  T_7          9            11           12\n"
     ]
    }
   ],
   "source": [
    "print(f'  T(n)     1 second    1 minute      1 hour ')\n",
    "print(f'--------------------------------------------')\n",
    "for i in range(7):\n",
    "    T_i = list(n_dict.keys())[i]\n",
    "    print(f'  {T_i}   {n_dict[T_i][0]:8}      {n_dict[T_i][1]:8}     {n_dict[T_i][2]:8}')"
   ]
  },
  {
   "cell_type": "code",
   "execution_count": null,
   "id": "99e5f0a9",
   "metadata": {},
   "outputs": [],
   "source": []
  },
  {
   "cell_type": "code",
   "execution_count": null,
   "id": "86c82cf8",
   "metadata": {},
   "outputs": [],
   "source": []
  },
  {
   "cell_type": "markdown",
   "id": "82406df3-0332-407d-a597-f00f9f72c1a2",
   "metadata": {},
   "source": [
    "### Recursive Cumulative Sum\n",
    "Write a recursive version of the cumulative sum function called **`cum_sum_rec(nums)`**. \n",
    "\n",
    "Note: Your function should work for small lists. It need not work for large lists which may generate a `RecursionError`. To find the maximum recursion depth for your version of Python, call\n",
    "```\n",
    "import sys\n",
    "sys.getrecursionlimit() \n",
    "```"
   ]
  },
  {
   "cell_type": "code",
   "execution_count": 17,
   "id": "520c4ceb-1225-457b-8d97-f900bb4f0abd",
   "metadata": {},
   "outputs": [],
   "source": [
    "def cum_sum_rec(nums):\n",
    "    if len(nums)==1:\n",
    "        return nums\n",
    "    \n",
    "    return cum_sum_rec(nums[:-1]) + [nums[-1] + sum(nums[:-1])]"
   ]
  },
  {
   "cell_type": "code",
   "execution_count": 18,
   "id": "0cc77dc4",
   "metadata": {},
   "outputs": [
    {
     "data": {
      "text/plain": [
       "[7, 15, 24]"
      ]
     },
     "execution_count": 18,
     "metadata": {},
     "output_type": "execute_result"
    }
   ],
   "source": [
    "cum_sum_rec([7,8,9])"
   ]
  },
  {
   "cell_type": "code",
   "execution_count": 19,
   "id": "979f0323",
   "metadata": {},
   "outputs": [
    {
     "data": {
      "text/plain": [
       "[7, 15, 24]"
      ]
     },
     "execution_count": 19,
     "metadata": {},
     "output_type": "execute_result"
    }
   ],
   "source": [
    "[7] + [15] + [24]"
   ]
  },
  {
   "cell_type": "markdown",
   "id": "7b69a280-bb1f-4454-8577-e2a698837e71",
   "metadata": {},
   "source": [
    "### A Recursively Defined Sequence\n",
    "Consider the sequence $a_1 = a_2 = 2$, $a_n = a_{n-1} + 2a_{n-2}$. \n",
    "\n",
    "$$\\{2, 2, 6, 10, \\ldots \\}$$\n",
    "\n",
    "Write a recursive function **`seq_rec(n)`** to return the $n$th term of the sequence for $n\\ge 1$. "
   ]
  },
  {
   "cell_type": "code",
   "execution_count": 20,
   "id": "8a2fe357-2ede-40ef-9886-ea6320124dd1",
   "metadata": {},
   "outputs": [],
   "source": [
    "def seq_rec(n):\n",
    "    if n<=2:\n",
    "        return 2\n",
    "    \n",
    "    return seq_rec(n-1) + 2*seq_rec(n-2)"
   ]
  },
  {
   "cell_type": "code",
   "execution_count": 21,
   "id": "7e988b8d",
   "metadata": {},
   "outputs": [
    {
     "data": {
      "text/plain": [
       "[2, 2, 6, 10, 22, 42, 86, 170, 342, 682]"
      ]
     },
     "execution_count": 21,
     "metadata": {},
     "output_type": "execute_result"
    }
   ],
   "source": [
    "[seq_rec(n) for n in range(1,11)]"
   ]
  },
  {
   "cell_type": "markdown",
   "id": "07055223-8b5c-4d78-9b6f-6718d8e93903",
   "metadata": {},
   "source": [
    "Now write a non-recursive version of the function called **`seq(n)`**."
   ]
  },
  {
   "cell_type": "code",
   "execution_count": 22,
   "id": "9d30481e-b94b-4ad5-9dfe-c45329b9fe95",
   "metadata": {},
   "outputs": [],
   "source": [
    "def seq(n):\n",
    "    prev, curr = 2,2\n",
    "    if n<=2:\n",
    "        return curr\n",
    "    \n",
    "    for _ in range(n-2):\n",
    "        prev, curr = curr, (2*prev+curr)\n",
    "    \n",
    "    return curr"
   ]
  },
  {
   "cell_type": "code",
   "execution_count": 23,
   "id": "4f5bb012",
   "metadata": {},
   "outputs": [
    {
     "data": {
      "text/plain": [
       "[2, 2, 6, 10, 22, 42, 86, 170, 342, 682]"
      ]
     },
     "execution_count": 23,
     "metadata": {},
     "output_type": "execute_result"
    }
   ],
   "source": [
    "[seq(n) for n in range(1,11)]"
   ]
  },
  {
   "cell_type": "markdown",
   "id": "e438b0d7-77f4-400b-9507-82e1487547e3",
   "metadata": {
    "tags": []
   },
   "source": [
    "### LR Curve\n",
    "\n",
    "The **LR Curve** draws a path in the 2D plane consisting of one-unit horizontal and vertical segments. The curve begins in one of four directions (East, North, West, South), then changes directions by making Left (L) and Right (R) turns. Here is a sample curve.\n",
    "\n",
    "<img src = \"http://www.coloradomath.org/python/lr_curve_8.jpg\" width=\"458\" height=\"446\" />\n",
    "\n",
    "An **LR string** specifies the moves that draw an LR curve. It can be defined recursively using the following rules. Begin with 'L', then repeatedly do the following:\n",
    "* Concatenate three strings: \n",
    "  * the current string\n",
    "  * the letter 'L'\n",
    "  * a second string which is identical to the current string except that the center character is flipped (from L to R or R to L).  \n",
    "\n",
    "Note that these rules produce strings of odd length only. Here are the first few LR strings:\n",
    "1. 'L'\n",
    "2. 'L' + 'L' + 'R' $\\rightarrow$ 'LLR'\n",
    "3. 'LLR' + 'L' + 'LRR' $\\rightarrow$ 'LLRLLRR'\n",
    "\n",
    "and their corresponding images, starting with a segment pointing in the East direction:\n",
    "\n",
    "<img src = \"http://www.coloradomath.org/python/LRcurves.jpg\" width=\"608\" height=\"180\"/>\n",
    "\n",
    "For this exercise, the sequence of steps begin with 'L'. They can be adapted to begin with 'R' instead.\n",
    "\n",
    "Write a **recursive** function **LR_string(string, reps)** that takes a string containing an odd number of Ls and Rs, and applies the above rules for the given number of repetitions.\n",
    "\n",
    "Examples:<br>\n",
    "`LR_string('L', 2)` returns `'LLRLLRR'`.<br>\n",
    "`LR_string('LLR', 1)` returns `'LLRLLRR'`.<br>\n",
    "`LR_string('L', 0)` returns `'L'`.\n"
   ]
  },
  {
   "cell_type": "code",
   "execution_count": 24,
   "id": "b9aab746-2d52-4745-aef5-55850c6aa0a7",
   "metadata": {},
   "outputs": [],
   "source": [
    "def LR_string(string, reps):\n",
    "    if reps == 0:\n",
    "        return string\n",
    "    \n",
    "    mid_pos = math.floor(len(string) / 2)\n",
    "    new_str = ''\n",
    "    for i in range(len(string)):\n",
    "        if i == mid_pos:\n",
    "            if string[i] == 'L':\n",
    "                new_str += 'R'\n",
    "            else:\n",
    "                new_str += 'L'\n",
    "        else:\n",
    "            new_str += string[i]\n",
    "            \n",
    "    return LR_string((string + 'L' + new_str), (reps-1))"
   ]
  },
  {
   "cell_type": "code",
   "execution_count": 25,
   "id": "b5428151",
   "metadata": {},
   "outputs": [
    {
     "data": {
      "text/plain": [
       "'LLRLLRR'"
      ]
     },
     "execution_count": 25,
     "metadata": {},
     "output_type": "execute_result"
    }
   ],
   "source": [
    "LR_string('L', 2)"
   ]
  },
  {
   "cell_type": "code",
   "execution_count": 26,
   "id": "c553b24e",
   "metadata": {},
   "outputs": [
    {
     "data": {
      "text/plain": [
       "'LLRLLRR'"
      ]
     },
     "execution_count": 26,
     "metadata": {},
     "output_type": "execute_result"
    }
   ],
   "source": [
    "LR_string('LLR', 1)"
   ]
  },
  {
   "cell_type": "code",
   "execution_count": 27,
   "id": "ef54a41c",
   "metadata": {},
   "outputs": [
    {
     "data": {
      "text/plain": [
       "'L'"
      ]
     },
     "execution_count": 27,
     "metadata": {},
     "output_type": "execute_result"
    }
   ],
   "source": [
    "LR_string('L', 0)"
   ]
  },
  {
   "cell_type": "markdown",
   "id": "3b66dc18-4723-4e09-9f77-3253017f8cdb",
   "metadata": {
    "tags": []
   },
   "source": [
    "Write a function called **LR_curve(LR, dir)** that takes an LR string as input and draws an LR Curve beginning in one of the 4 directions ('N', 'E', 'S', 'W'). The default direction is 'E'. The large image displayed above corresponds to  `LR_curve(LR_string('L', 8))`."
   ]
  },
  {
   "cell_type": "code",
   "execution_count": 28,
   "id": "41d53127-d314-477f-88a2-f017558bbfd9",
   "metadata": {},
   "outputs": [],
   "source": [
    "def LR_curve(LR, dir = 'E'):\n",
    "    \n",
    "    plt.figure(figsize=(10,10))\n",
    "    dir_dict = {'E': [('N','S'), np.array([[0,1],[0,0]])], 'W': [('S','N'), np.array([[0,-1],[0,0]])],\n",
    "               'N': [('W','E'), np.array([[0,0],[0,1]])], 'S': [('E','W'), np.array([[0,0],[0,-1]])]}\n",
    "    \n",
    "    xpos, ypos = 0, 0\n",
    "    xvals = xpos + dir_dict[dir][1][0]\n",
    "    yvals = ypos + dir_dict[dir][1][1]\n",
    "    plt.plot(xvals,yvals, c='b')\n",
    "    xpos, ypos = xvals[-1], yvals[-1]\n",
    "    \n",
    "    for lr in LR:\n",
    "        lr_dir_tup = dir_dict[dir][0]   # set a new direction\n",
    "        if lr == 'L':\n",
    "            dir = lr_dir_tup[0]\n",
    "        else:\n",
    "            dir = lr_dir_tup[1]\n",
    "            \n",
    "        xvals = xpos + dir_dict[dir][1][0]   # plot a new line\n",
    "        yvals = ypos + dir_dict[dir][1][1]\n",
    "        plt.plot(xvals,yvals, c='b')\n",
    "        xpos, ypos = xvals[-1], yvals[-1]\n",
    "    \n",
    "    plt.axis('equal')\n",
    "    plt.axis('off')"
   ]
  },
  {
   "cell_type": "code",
   "execution_count": 29,
   "id": "8d656945",
   "metadata": {},
   "outputs": [
    {
     "data": {
      "image/png": "[encoded data removed]",
      "text/plain": [
       "<Figure size 720x720 with 1 Axes>"
      ]
     },
     "metadata": {
      "needs_background": "light"
     },
     "output_type": "display_data"
    }
   ],
   "source": [
    "LR_curve(LR_string('L', 8))"
   ]
  },
  {
   "cell_type": "markdown",
   "id": "c6ccab55-326c-4e9d-91a0-f94b62e26a3e",
   "metadata": {},
   "source": [
    "**Draw the curve** `LR_curve(LR_string('L', 6), 'S')`."
   ]
  },
  {
   "cell_type": "code",
   "execution_count": 30,
   "id": "647af832-7bfb-445d-8c18-f9c481674c6d",
   "metadata": {},
   "outputs": [
    {
     "data": {
      "image/png": "[encoded data removed]",
      "text/plain": [
       "<Figure size 720x720 with 1 Axes>"
      ]
     },
     "metadata": {
      "needs_background": "light"
     },
     "output_type": "display_data"
    }
   ],
   "source": [
    "LR_curve(LR_string('L', 6), 'S')"
   ]
  },
  {
   "cell_type": "markdown",
   "id": "29fb2022-9796-49b5-a4e7-002f55c65228",
   "metadata": {},
   "source": [
    "**Draw the curve** `LR_curve(LR_string('L', 11))`."
   ]
  },
  {
   "cell_type": "code",
   "execution_count": 31,
   "id": "928dfe64-fe1f-4b7f-a638-cd7287ad498d",
   "metadata": {},
   "outputs": [
    {
     "data": {
      "image/png": "[encoded data removed]",
      "text/plain": [
       "<Figure size 720x720 with 1 Axes>"
      ]
     },
     "metadata": {
      "needs_background": "light"
     },
     "output_type": "display_data"
    }
   ],
   "source": [
    "LR_curve(LR_string('L', 11))"
   ]
  },
  {
   "cell_type": "code",
   "execution_count": null,
   "id": "4f706541",
   "metadata": {},
   "outputs": [],
   "source": []
  },
  {
   "cell_type": "code",
   "execution_count": null,
   "id": "3d1276e0",
   "metadata": {},
   "outputs": [],
   "source": []
  }
 ],
 "metadata": {
  "kernelspec": {
   "display_name": "Python 3 (ipykernel)",
   "language": "python",
   "name": "python3"
  },
  "language_info": {
   "codemirror_mode": {
    "name": "ipython",
    "version": 3
   },
   "file_extension": ".py",
   "mimetype": "text/x-python",
   "name": "python",
   "nbconvert_exporter": "python",
   "pygments_lexer": "ipython3",
   "version": "3.9.12"
  }
 },
 "nbformat": 4,
 "nbformat_minor": 5
}
