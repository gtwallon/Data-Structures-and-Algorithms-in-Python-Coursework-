{
 "cells": [
  {
   "attachments": {},
   "cell_type": "markdown",
   "id": "4649d861-5606-44c8-b0a3-461187ce4ac4",
   "metadata": {
    "tags": []
   },
   "source": [
    "# HW 11\n",
    "___"
   ]
  },
  {
   "cell_type": "code",
   "execution_count": 288,
   "id": "864307f0-3b82-4757-87c8-6a4664b92a9c",
   "metadata": {},
   "outputs": [],
   "source": [
    "from collections import Counter\n",
    "import math"
   ]
  },
  {
   "attachments": {},
   "cell_type": "markdown",
   "id": "e46e2db3-0ca8-4678-a17c-418d826ec5ea",
   "metadata": {},
   "source": [
    "### Counting Frequencies\n",
    "An inefficient way to count the letter frequencies in a string is to call `.count()` for each letter of the alphabet.\n",
    "\n",
    "A more efficient method is to use a `Counter` which is a subclass of `dict`. Documentation can be found here: https://docs.python.org/3/library/collections.html#collections.Counter.\n",
    "\n",
    "Example:\n",
    "```\n",
    "from collections import Counter\n",
    "ct = Counter()\n",
    "ct.update('banana')\n",
    "ct.update('bun')\n",
    "ct\n",
    "```\n",
    "returns \n",
    "```\n",
    "Counter({'b': 2, 'a': 3, 'n': 3, 'u': 1})\n",
    "```\n",
    "which can be used like a dictionary. To sort by most frequent to least frequent, call\n",
    "```\n",
    "ct.most_common()\n",
    "```\n",
    "which will return the list\n",
    "```\n",
    "[('a', 3), ('n', 3), ('b', 2), ('u', 1)]\n",
    "```"
   ]
  },
  {
   "attachments": {},
   "cell_type": "markdown",
   "id": "7bc8ecd3-3a98-4e9c-9686-115f27fff536",
   "metadata": {},
   "source": [
    "### Flatland\n",
    "\n",
    "The file `'flatland.txt'` contains the text of the book *Flatland* by Edwin A. Abbott, which is a satire about Victorian England. Its main characters are geometric shapes. **Calculate the frequencies** of the 26 letters of the alphabet in the text using a `Counter`. Save the result in **`flatland_freq`**.\n",
    "\n",
    "* For space efficiency, **read the file line by line**. For example:\n",
    "```\n",
    "with open('flatland.txt') as fp:\n",
    "    for line in fp:\n",
    "        ...\n",
    "```\n",
    "* Use `.isalpha()` to distinguish letters from non-alphabetic characters.\n",
    "* Use `.lower()` to convert upper case characters to lower case."
   ]
  },
  {
   "cell_type": "code",
   "execution_count": 289,
   "id": "ffda202a-22b3-48ee-94f6-8d58218dd72f",
   "metadata": {},
   "outputs": [],
   "source": [
    "alphabet = 'abcdefghijklmnopqrstuvwxyz' "
   ]
  },
  {
   "cell_type": "code",
   "execution_count": 290,
   "id": "37ca5c32-1425-48e4-9096-07109944770b",
   "metadata": {},
   "outputs": [],
   "source": [
    "flatland_freq = Counter()\n",
    "with open('flatland.txt') as fp:\n",
    "    for line in fp:\n",
    "        line.strip()\n",
    "        string = ''\n",
    "        for char in line:\n",
    "            if char.isalpha():\n",
    "                string += char.lower()\n",
    "        flatland_freq.update(string)"
   ]
  },
  {
   "cell_type": "code",
   "execution_count": 291,
   "id": "37a21744",
   "metadata": {},
   "outputs": [
    {
     "data": {
      "text/plain": [
       "Counter({'f': 3694,\n",
       "         'l': 6402,\n",
       "         'a': 11460,\n",
       "         't': 13582,\n",
       "         'n': 10814,\n",
       "         'd': 5686,\n",
       "         'r': 8706,\n",
       "         'o': 11790,\n",
       "         'm': 3986,\n",
       "         'c': 4438,\n",
       "         'e': 18666,\n",
       "         'y': 3125,\n",
       "         'i': 11154,\n",
       "         's': 9785,\n",
       "         'w': 2665,\n",
       "         'b': 2148,\n",
       "         'g': 2810,\n",
       "         'h': 7955,\n",
       "         'u': 4488,\n",
       "         'p': 2588,\n",
       "         'q': 193,\n",
       "         'k': 502,\n",
       "         'v': 1418,\n",
       "         'z': 85,\n",
       "         'x': 379,\n",
       "         'j': 125})"
      ]
     },
     "execution_count": 291,
     "metadata": {},
     "output_type": "execute_result"
    }
   ],
   "source": [
    "flatland_freq"
   ]
  },
  {
   "attachments": {},
   "cell_type": "markdown",
   "id": "174bfac6-8562-4aa7-b767-d8160e1afcce",
   "metadata": {},
   "source": [
    "### Flatland Fixed-Length Encodings\n",
    "Suppose the letters in the alphabet are represented using fixed-length ternary (base 3) codes. **Calculate the total number of ternary digits needed** to encode the 26 letters in *Flatland* (converting upper case letters to lower case). Store the result in `flatland_digit_ct_fixed`.\n",
    "\n",
    "For example, the first 5 letters of the alphabet can be represented as two-digit base 3 numbers: `a=00`, `b=01`, `c=02`, `d=10`, and `e=11`. Then the encoding for the word `aced` would require 8 digits: `00021110`."
   ]
  },
  {
   "attachments": {},
   "cell_type": "markdown",
   "id": "8e8fd667",
   "metadata": {},
   "source": [
    "a = 000  \n",
    "b = 001  \n",
    "c = 002  \n",
    "d = 010  \n",
    "e = 011  \n",
    "f = 012  \n",
    "g = 020  \n",
    "h = 021  \n",
    "i = 022  \n",
    "j = 100  \n",
    "k = 101  \n",
    "l = 102  \n",
    "m = 110  \n",
    "n = 111  \n",
    "o = 112  \n",
    "p = 120  \n",
    "q = 121  \n",
    "r = 122  \n",
    "s = 200  \n",
    "t = 201  \n",
    "u = 202  \n",
    "v = 210  \n",
    "w = 211  \n",
    "x = 212  \n",
    "y = 220  \n",
    "z = 221  "
   ]
  },
  {
   "cell_type": "code",
   "execution_count": 292,
   "id": "1598b1af-8f3c-4c41-ab82-354911166711",
   "metadata": {},
   "outputs": [
    {
     "data": {
      "text/plain": [
       "445932"
      ]
     },
     "execution_count": 292,
     "metadata": {},
     "output_type": "execute_result"
    }
   ],
   "source": [
    "total = 0\n",
    "for lett_count in flatland_freq.values():\n",
    "    total += 3*lett_count\n",
    "\n",
    "total"
   ]
  },
  {
   "cell_type": "code",
   "execution_count": 293,
   "id": "3cc169cc-8a08-479c-bba1-5fff647a534c",
   "metadata": {},
   "outputs": [],
   "source": [
    "flatland_digit_ct_fixed = 445932"
   ]
  },
  {
   "attachments": {},
   "cell_type": "markdown",
   "id": "d41b47bd-9b21-4e38-a1b7-787fd713effc",
   "metadata": {},
   "source": [
    "### Huffman Code\n",
    "\n",
    "Write a function **`huffman(char_freq)`** that takes a Counter containing `ch: freq` key-value pairs representing letter frequencies, and **returns a dictionary** containing the ternary encodings for the characters. The dictionary keys will be the characters, and the values will be the base 3 encodings in string format. Assume that there are at least 3 characters in `char_freq`.\n",
    "\n",
    "The algorithm will use a **ternary tree** (instead of a binary tree) composed of `HuffNode`s (defined below) with each node having up to 3 children. The children should be arranged from left to right in order of increasing frequency. (It is not necessary for the function to implement an efficient min-priority queue; it may call `sorted()`.)\n",
    "\n",
    "**Note**: An optimal encoding can be found if the number of characters is odd. If there is an even number of characters, add a dummy character `'@'` with frequency 0. This will ensure that the root will have 3 children.\n",
    "\n",
    "**Example**: \n",
    "```\n",
    "char_freq = Counter({'a': 45, 'b': 10, 'c': 18, \n",
    "                     'd': 48, 'e': 22, 'f': 33})\n",
    "huffman(char_freq)\n",
    "\n",
    "```\n",
    "returns (in some order)\n",
    "```\n",
    "{'b': '211', 'f': '22', 'a': '0', 'd': '1', 'c': '212', 'e': '20'}\n",
    "\n",
    "```"
   ]
  },
  {
   "cell_type": "code",
   "execution_count": 294,
   "id": "2e93f4b3",
   "metadata": {},
   "outputs": [],
   "source": [
    "class HuffNode:\n",
    "    def __init__(self, ch, freq):\n",
    "        self.char = ch  # set to '' if internal node\n",
    "        self.freq = freq\n",
    "        self.parent = None\n",
    "        self.left = None\n",
    "        self.middle = None\n",
    "        self.right = None"
   ]
  },
  {
   "cell_type": "code",
   "execution_count": null,
   "id": "2664654f",
   "metadata": {},
   "outputs": [],
   "source": []
  },
  {
   "cell_type": "code",
   "execution_count": 295,
   "id": "f6f07f54",
   "metadata": {},
   "outputs": [],
   "source": [
    "def merge(counter, node_dict):\n",
    "    '''merge three lowest frequency nodes'''\n",
    "    freq_lst = counter.most_common()\n",
    "    \n",
    "    \n",
    "    #grab 3 lowest freqs and corresponding chars\n",
    "    freq = freq_lst[-1][1] + freq_lst[-2][1] + freq_lst[-3][1]\n",
    "    \n",
    "    left = freq_lst[-1][0]\n",
    "    mid = freq_lst[-2][0]\n",
    "    right = freq_lst[-3][0]\n",
    "    \n",
    "    char= left+mid+right\n",
    "    \n",
    "    \n",
    "    # make new node and add to node_dict\n",
    "    z = HuffNode(char, freq)\n",
    "    z.left = node_dict[left]\n",
    "    node_dict[left].parent = z\n",
    "    z.middle = node_dict[mid]\n",
    "    node_dict[mid].parent = z\n",
    "    z.right = node_dict[right]\n",
    "    node_dict[right].parent = z\n",
    "    \n",
    "    node_dict[char] = z\n",
    "    \n",
    "    del(counter[left])\n",
    "    del(counter[mid])\n",
    "    del(counter[right])\n",
    "    counter[char] = z.freq"
   ]
  },
  {
   "cell_type": "code",
   "execution_count": null,
   "id": "d5864d64",
   "metadata": {},
   "outputs": [],
   "source": []
  },
  {
   "attachments": {},
   "cell_type": "markdown",
   "id": "7ad76eb4",
   "metadata": {},
   "source": [
    "Now that we have the right tree, need to find the ternary code for each character. "
   ]
  },
  {
   "cell_type": "code",
   "execution_count": 296,
   "id": "1a697fa9",
   "metadata": {},
   "outputs": [],
   "source": [
    "def get_code(char, node_dict):\n",
    "    code = ''\n",
    "    while node_dict[char].parent != None:\n",
    "        if node_dict[char] == node_dict[char].parent.left:\n",
    "            code+='0'\n",
    "        elif node_dict[char] == node_dict[char].parent.middle:\n",
    "            code+='1'\n",
    "        else:\n",
    "            code+='2'\n",
    "        char = node_dict[char].parent.char\n",
    "    return code[::-1]"
   ]
  },
  {
   "cell_type": "code",
   "execution_count": null,
   "id": "b4ffc512",
   "metadata": {},
   "outputs": [],
   "source": []
  },
  {
   "cell_type": "code",
   "execution_count": 297,
   "id": "6daaa01e",
   "metadata": {},
   "outputs": [],
   "source": [
    "def huffman(char_freq):\n",
    "    count = char_freq.copy()\n",
    "    \n",
    "    og_chars = list(count.keys())\n",
    "    \n",
    "    if len(count)%2==0:\n",
    "        count['@'] = 0\n",
    "        \n",
    "    nodes = {}\n",
    "    for char in count:\n",
    "        nodes[char] = HuffNode(char, count[char])\n",
    "        \n",
    "    while len(count) > 1:\n",
    "        merge(count, nodes)\n",
    "    \n",
    "    result = {}\n",
    "    for char in og_chars:      # O(nlogn)\n",
    "        result[char] = get_code(char, nodes)\n",
    "    \n",
    "    return result"
   ]
  },
  {
   "cell_type": "code",
   "execution_count": 298,
   "id": "751d1aff",
   "metadata": {},
   "outputs": [],
   "source": [
    "char_freq = Counter({'a': 45, 'b': 10, 'c': 18, \n",
    "                     'd': 48, 'e': 22, 'f': 33})"
   ]
  },
  {
   "cell_type": "code",
   "execution_count": 299,
   "id": "5f17f9c6",
   "metadata": {},
   "outputs": [
    {
     "data": {
      "text/plain": [
       "{'a': '0', 'b': '211', 'c': '212', 'd': '1', 'e': '20', 'f': '22'}"
      ]
     },
     "execution_count": 299,
     "metadata": {},
     "output_type": "execute_result"
    }
   ],
   "source": [
    "huffman(char_freq)"
   ]
  },
  {
   "cell_type": "code",
   "execution_count": 300,
   "id": "cac24adb",
   "metadata": {},
   "outputs": [
    {
     "data": {
      "text/plain": [
       "Counter({'a': 45, 'b': 10, 'c': 18, 'd': 48, 'e': 22, 'f': 33})"
      ]
     },
     "execution_count": 300,
     "metadata": {},
     "output_type": "execute_result"
    }
   ],
   "source": [
    "char_freq"
   ]
  },
  {
   "cell_type": "code",
   "execution_count": null,
   "id": "8b2ec0a9",
   "metadata": {},
   "outputs": [],
   "source": []
  },
  {
   "attachments": {},
   "cell_type": "markdown",
   "id": "439a47f4-6021-4378-ba82-54609a540c19",
   "metadata": {
    "tags": []
   },
   "source": [
    "### Flatland Encodings\n",
    "Call `huffman(flatland_freq)` and store the result in `flatland_huffman_codes`."
   ]
  },
  {
   "cell_type": "code",
   "execution_count": 301,
   "id": "2d4810d7-3a8f-43df-a9bf-20a1b0bdd5e4",
   "metadata": {},
   "outputs": [],
   "source": [
    "flatland_huffman_codes = huffman(flatland_freq)"
   ]
  },
  {
   "cell_type": "code",
   "execution_count": 302,
   "id": "b02266ee",
   "metadata": {},
   "outputs": [
    {
     "data": {
      "text/plain": [
       "{'f': '100',\n",
       " 'l': '122',\n",
       " 'a': '01',\n",
       " 't': '11',\n",
       " 'n': '222',\n",
       " 'd': '121',\n",
       " 'r': '220',\n",
       " 'o': '02',\n",
       " 'm': '101',\n",
       " 'c': '102',\n",
       " 'e': '20',\n",
       " 'y': '2122',\n",
       " 'i': '00',\n",
       " 's': '221',\n",
       " 'w': '2102',\n",
       " 'b': '2100',\n",
       " 'g': '2121',\n",
       " 'h': '211',\n",
       " 'u': '120',\n",
       " 'p': '2101',\n",
       " 'q': '212010',\n",
       " 'k': '21200',\n",
       " 'v': '21202',\n",
       " 'z': '2120111',\n",
       " 'x': '212012',\n",
       " 'j': '2120112'}"
      ]
     },
     "execution_count": 302,
     "metadata": {},
     "output_type": "execute_result"
    }
   ],
   "source": [
    "flatland_huffman_codes"
   ]
  },
  {
   "cell_type": "code",
   "execution_count": null,
   "id": "2b03a6d2",
   "metadata": {},
   "outputs": [],
   "source": []
  },
  {
   "attachments": {},
   "cell_type": "markdown",
   "id": "f3a7d11f-3525-4763-8a8b-5c5d82c9a1ba",
   "metadata": {
    "tags": []
   },
   "source": [
    "**Calculate the number of ternary digits needed** to encode the letters in *Flatland* (converted to lower case) using `flatland_huffman_codes`. Store the result in `flatland_digit_ct_huffman`."
   ]
  },
  {
   "cell_type": "code",
   "execution_count": 303,
   "id": "64d784f6",
   "metadata": {},
   "outputs": [
    {
     "data": {
      "text/plain": [
       "Counter({'f': 3694,\n",
       "         'l': 6402,\n",
       "         'a': 11460,\n",
       "         't': 13582,\n",
       "         'n': 10814,\n",
       "         'd': 5686,\n",
       "         'r': 8706,\n",
       "         'o': 11790,\n",
       "         'm': 3986,\n",
       "         'c': 4438,\n",
       "         'e': 18666,\n",
       "         'y': 3125,\n",
       "         'i': 11154,\n",
       "         's': 9785,\n",
       "         'w': 2665,\n",
       "         'b': 2148,\n",
       "         'g': 2810,\n",
       "         'h': 7955,\n",
       "         'u': 4488,\n",
       "         'p': 2588,\n",
       "         'q': 193,\n",
       "         'k': 502,\n",
       "         'v': 1418,\n",
       "         'z': 85,\n",
       "         'x': 379,\n",
       "         'j': 125})"
      ]
     },
     "execution_count": 303,
     "metadata": {},
     "output_type": "execute_result"
    }
   ],
   "source": [
    "flatland_freq"
   ]
  },
  {
   "cell_type": "code",
   "execution_count": 305,
   "id": "b3ed18b5",
   "metadata": {},
   "outputs": [
    {
     "data": {
      "text/plain": [
       "399012"
      ]
     },
     "execution_count": 305,
     "metadata": {},
     "output_type": "execute_result"
    }
   ],
   "source": [
    "total = 0\n",
    "for char in flatland_freq:\n",
    "    total += flatland_freq[char] * len(flatland_huffman_codes[char])\n",
    "total"
   ]
  },
  {
   "cell_type": "code",
   "execution_count": 306,
   "id": "caea1ed8-aac4-48f8-97df-bc85fa869962",
   "metadata": {},
   "outputs": [],
   "source": [
    "flatland_digit_ct_huffman = total"
   ]
  },
  {
   "cell_type": "code",
   "execution_count": null,
   "id": "b771b877",
   "metadata": {},
   "outputs": [],
   "source": []
  },
  {
   "cell_type": "code",
   "execution_count": null,
   "id": "2f615750",
   "metadata": {},
   "outputs": [],
   "source": []
  },
  {
   "cell_type": "code",
   "execution_count": null,
   "id": "c4397b4a",
   "metadata": {},
   "outputs": [],
   "source": []
  },
  {
   "cell_type": "code",
   "execution_count": null,
   "id": "c7468f50",
   "metadata": {},
   "outputs": [],
   "source": []
  },
  {
   "cell_type": "code",
   "execution_count": null,
   "id": "b805accc",
   "metadata": {},
   "outputs": [],
   "source": []
  }
 ],
 "metadata": {
  "kernelspec": {
   "display_name": "Python 3 (ipykernel)",
   "language": "python",
   "name": "python3"
  },
  "language_info": {
   "codemirror_mode": {
    "name": "ipython",
    "version": 3
   },
   "file_extension": ".py",
   "mimetype": "text/x-python",
   "name": "python",
   "nbconvert_exporter": "python",
   "pygments_lexer": "ipython3",
   "version": "3.9.12"
  }
 },
 "nbformat": 4,
 "nbformat_minor": 5
}
