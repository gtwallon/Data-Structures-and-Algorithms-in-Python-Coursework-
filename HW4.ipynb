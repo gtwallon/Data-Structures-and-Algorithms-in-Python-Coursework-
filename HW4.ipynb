{
 "cells": [
  {
   "cell_type": "markdown",
   "id": "33d52e17-cee0-4ba1-a5df-49b93a31e07c",
   "metadata": {
    "tags": []
   },
   "source": [
    "# HW 4\n",
    "___"
   ]
  },
  {
   "cell_type": "code",
   "execution_count": 151,
   "id": "fbdbf413-409e-4fcc-a0d5-dcc6cf4e5d16",
   "metadata": {},
   "outputs": [],
   "source": [
    "import numpy as np\n",
    "import matplotlib.pyplot as plt"
   ]
  },
  {
   "cell_type": "markdown",
   "id": "a6094a9d-0464-45eb-b09c-ecc1e8b509f3",
   "metadata": {},
   "source": [
    "### Polynomials\n",
    "A polynomial $P(x)$ can be represented by an array of coefficients in *increasing* degree order. Examples are shown in this table:\n",
    "\n",
    "| &nbsp; &nbsp; &nbsp; Polynomial &nbsp; &nbsp; &nbsp;|Coefficients|  \n",
    "|:---------:|:--:|\n",
    "|$8 - 6x + x^2$|`array([8, -6, 1])`|\n",
    "|$8 + x^2$|`array([8, 0, 1])`|\n",
    "|$- 6x + x^2$|`array([0, -6, 1])`|\n",
    "|$8$|`array([8])`|\n"
   ]
  },
  {
   "cell_type": "markdown",
   "id": "6c79c6ff-fc7d-4dec-9629-00f47fcb3b6b",
   "metadata": {},
   "source": [
    "**Use the `Polynomial` class defined below** for the following problems. \n",
    "\n",
    "**Add the following methods**:\n",
    "* **`__call__(x)`** evaluates the polynomial $P$ for a given value of $x$. It allows the use of the `P(x)` syntax. (You may use Horner's Method but it's not necessary.)\n",
    "* **`deriv()`** returns the derivative of $P(x)$ as a `Polynomial` with degree one less than $P$.\n",
    "\n",
    "For example,\n",
    "```\n",
    "poly = Polynomial([8, -6, 1])\n",
    "poly(-1)\n",
    "```\n",
    "returns `15` and\n",
    "```\n",
    "vars(poly.deriv())\n",
    "```\n",
    "returns `{'coeffs': array([-6,  2]), 'degree': 1}`.\n",
    "\n",
    "(*Optional:* You may add other methods to this class.)\n",
    "\n"
   ]
  },
  {
   "cell_type": "code",
   "execution_count": 152,
   "id": "fe1e571a",
   "metadata": {},
   "outputs": [
    {
     "data": {
      "text/plain": [
       "array([-6,  2, 12, -8, 35])"
      ]
     },
     "execution_count": 152,
     "metadata": {},
     "output_type": "execute_result"
    }
   ],
   "source": [
    "c = np.array([8, -6, 1, 4, -2,7])\n",
    "d_c = np.array([c[i]*i for i in range(1,len(c))])\n",
    "d_c"
   ]
  },
  {
   "cell_type": "code",
   "execution_count": 153,
   "id": "0eb8f23a-ec31-4594-afea-dadfa3857f70",
   "metadata": {},
   "outputs": [],
   "source": [
    "class Polynomial:\n",
    "    def __init__(self, coeffs):\n",
    "        self.coeffs = np.array(coeffs)\n",
    "        self.degree = self.coeffs.size - 1\n",
    "    \n",
    "    def __call__(self,x):\n",
    "        pows_x = np.array([x**i for i in range(len(self.coeffs))])\n",
    "        return sum(self.coeffs * pows_x)\n",
    "    \n",
    "    def deriv(self):\n",
    "        d_coeffs = np.array([self.coeffs[i]*i for i in range(1,len(self.coeffs))])\n",
    "        return Polynomial(d_coeffs)"
   ]
  },
  {
   "cell_type": "code",
   "execution_count": 154,
   "id": "b2fce0cb-cd67-4e43-ab55-451b5379e150",
   "metadata": {},
   "outputs": [
    {
     "data": {
      "text/plain": [
       "{'coeffs': array([-6,  2]), 'degree': 1}"
      ]
     },
     "execution_count": 154,
     "metadata": {},
     "output_type": "execute_result"
    }
   ],
   "source": [
    "poly = Polynomial([8, -6, 1])\n",
    "vars(poly.deriv())\n"
   ]
  },
  {
   "cell_type": "markdown",
   "id": "e37d2880-133a-4d50-8b66-d3eb1e9ea2e0",
   "metadata": {},
   "source": [
    "### Newton's Method for Polynomials"
   ]
  },
  {
   "cell_type": "markdown",
   "id": "b7330c07-adcf-42f6-bd9d-56e3ac03a266",
   "metadata": {},
   "source": [
    "Newton's Method is an iterative algorithm for finding a root of a differentiable function $f(x)$. Given an initial guess of $x_0$, the method converges to a solution by repeatedly applying this formula: \n",
    "\n",
    "$$ x_{n+1} = x_n - \\frac{f(x_n)}{f'(x_n)}.$$\n",
    "\n",
    "When Newton's Method converges, it usually does so quickly, however it does not always converge, for example, when $f'(x_n) = 0$.\n",
    "\n",
    "Write an iterative function **`newton(poly, x0, tol=1e-4, max_iter=50)`** that uses Newton's Method to find a root of a `Polynomial` $P(x)$ given an initial guess `x0`. The method terminates when $\\lvert P(x_n)\\rvert$ is less than the tolerance `tol`. If the method has not converged after `max_iter` iterations, the function returns `None`."
   ]
  },
  {
   "cell_type": "code",
   "execution_count": 155,
   "id": "59e7b97a-eaf9-44b0-9b11-d1b492a07f03",
   "metadata": {},
   "outputs": [],
   "source": [
    "def newton(poly, x0, tol=1e-4, max_iter=50):\n",
    "    x = x0\n",
    "    it = 0\n",
    "    while it<=max_iter:\n",
    "        p_x = poly(x)\n",
    "        if np.abs(p_x) < tol:\n",
    "            return np.around(x,6)\n",
    "        else:\n",
    "            dp = poly.deriv()\n",
    "            dp_x = dp(x)\n",
    "            x = x - (p_x/dp_x)\n",
    "        it += 1\n",
    "    \n",
    "    return None"
   ]
  },
  {
   "cell_type": "code",
   "execution_count": 156,
   "id": "bee2152b",
   "metadata": {},
   "outputs": [],
   "source": [
    "poly1 = Polynomial([8, -6, 1])"
   ]
  },
  {
   "cell_type": "code",
   "execution_count": 157,
   "id": "bf44c0aa",
   "metadata": {},
   "outputs": [
    {
     "data": {
      "text/plain": [
       "2.0"
      ]
     },
     "execution_count": 157,
     "metadata": {},
     "output_type": "execute_result"
    }
   ],
   "source": [
    "newton(poly1, 1, tol=1e-4, max_iter=50)"
   ]
  },
  {
   "cell_type": "markdown",
   "id": "e7e8e1ec-2a13-4589-84da-3544d7d35c68",
   "metadata": {},
   "source": [
    "### Recursive Newton's Method\n",
    "**Write a recursive version** of the previous function called **`newton_rec()`**."
   ]
  },
  {
   "cell_type": "code",
   "execution_count": 158,
   "id": "fa9151d7-70cd-457a-8b44-8005bd68240a",
   "metadata": {},
   "outputs": [],
   "source": [
    "def newton_rec(poly, x0, tol=1e-4, max_iter=50):\n",
    "    if max_iter == 0:\n",
    "        return None\n",
    "    x = x0\n",
    "    p_x = poly(x)\n",
    "    if np.abs(p_x) < tol:\n",
    "        return np.around(x,6)\n",
    "    else:\n",
    "        dp = poly.deriv()\n",
    "        dp_x = dp(x)\n",
    "        x = x - (p_x/dp_x)\n",
    "        return newton_rec(poly, x, tol, max_iter-1)"
   ]
  },
  {
   "cell_type": "code",
   "execution_count": 159,
   "id": "448af07b",
   "metadata": {},
   "outputs": [],
   "source": [
    "poly2 = Polynomial([2,-10,1,4])"
   ]
  },
  {
   "cell_type": "code",
   "execution_count": 160,
   "id": "65d8a96f",
   "metadata": {},
   "outputs": [
    {
     "data": {
      "image/png": "[encoded data removed]",
      "text/plain": [
       "<Figure size 432x288 with 1 Axes>"
      ]
     },
     "metadata": {
      "needs_background": "light"
     },
     "output_type": "display_data"
    }
   ],
   "source": [
    "# poly2\n",
    "xvals = np.linspace(-2,2,100)\n",
    "yvals = [poly2(x) for x in xvals]\n",
    "zeros = [0 for _ in xvals]\n",
    "plt.plot(xvals, yvals)\n",
    "plt.plot(xvals, zeros)\n",
    "plt.show()"
   ]
  },
  {
   "cell_type": "code",
   "execution_count": 161,
   "id": "819ae6ea",
   "metadata": {},
   "outputs": [
    {
     "data": {
      "text/plain": [
       "1.338591"
      ]
     },
     "execution_count": 161,
     "metadata": {},
     "output_type": "execute_result"
    }
   ],
   "source": [
    "newton_rec(poly2, 1, 1e-4, 50)"
   ]
  },
  {
   "cell_type": "code",
   "execution_count": null,
   "id": "174aaa9f",
   "metadata": {},
   "outputs": [],
   "source": []
  },
  {
   "cell_type": "markdown",
   "id": "349ba06d",
   "metadata": {},
   "source": [
    "### Bisection Method for Polynomials\n",
    "The *bisection method* is an alternate way to find a root of a `Polynomial`. Write a function **`bisection(poly, interval, tol=1e4, max_iter=50)`** that uses **binary search** to find a root of $P(x)$. Begin with a closed interval $[a, b]$ represented by a 2-element tuple `(a, b)`. If $P(a)$ and $P(b)$ are opposite signs, then a root is guaranteed to exist in interval $[a, b]$ because $P(x)$ is continuous. \n",
    "\n",
    "The method repeats these steps until a root is found (within the tolerance) or `max_iter` is reached:\n",
    "* Calculate the midpoint of the interval. If it corresponds to a root, return the root.\n",
    "* If the midpoint is not a root, repeat the process using either the left half or the right half of the interval.\n",
    "\n",
    "The function returns `None` if $P(a)$ and $P(b)$ are not opposite signs.\n",
    "\n",
    "(*Hint:* You may wish to use `np.sign(val)` which returns 1, 0, or -1, depending on whether `val` is positive, zero, or negative, respectively.)"
   ]
  },
  {
   "cell_type": "code",
   "execution_count": 162,
   "id": "02906bd6",
   "metadata": {},
   "outputs": [],
   "source": [
    "def bisection(poly, interval, tol=1e-4, max_iter=50):\n",
    "    if max_iter == 0:\n",
    "        return None\n",
    "    \n",
    "    a,b = interval\n",
    "    p_a = poly(a)\n",
    "    p_b = poly(b)\n",
    "    if np.abs(p_a) < tol:\n",
    "        return np.around(a,6)\n",
    "    elif np.abs(p_b) < tol:\n",
    "        return np.around(b,6)\n",
    "    if np.sign(p_a) == np.sign(p_b):\n",
    "        return None\n",
    "    \n",
    "    mid = (a+b)/2\n",
    "    p_mid = poly(mid)\n",
    "    if np.abs(p_mid) < tol:\n",
    "        return np.around(mid,6)\n",
    "    \n",
    "    if np.sign(p_a) == np.sign(p_mid):\n",
    "        return bisection(poly, (mid,b), tol, max_iter-1)\n",
    "    else:\n",
    "        return bisection(poly, (a,mid), tol, max_iter-1)"
   ]
  },
  {
   "cell_type": "code",
   "execution_count": 163,
   "id": "56b0dc3f",
   "metadata": {},
   "outputs": [],
   "source": [
    "poly1 = Polynomial([8, -6, 1])"
   ]
  },
  {
   "cell_type": "code",
   "execution_count": 164,
   "id": "8a285e8b",
   "metadata": {},
   "outputs": [
    {
     "data": {
      "text/plain": [
       "1.999969"
      ]
     },
     "execution_count": 164,
     "metadata": {},
     "output_type": "execute_result"
    }
   ],
   "source": [
    "bisection(poly1, (1.5,3), 1e-4, 50)"
   ]
  },
  {
   "cell_type": "code",
   "execution_count": 165,
   "id": "fb4e4e6b",
   "metadata": {},
   "outputs": [
    {
     "data": {
      "image/png": "[encoded data removed]",
      "text/plain": [
       "<Figure size 432x288 with 1 Axes>"
      ]
     },
     "metadata": {
      "needs_background": "light"
     },
     "output_type": "display_data"
    }
   ],
   "source": [
    "# poly2\n",
    "xvals = np.linspace(-2,2,100)\n",
    "yvals = [poly2(x) for x in xvals]\n",
    "zeros = [0 for _ in xvals]\n",
    "plt.plot(xvals, yvals)\n",
    "plt.plot(xvals, zeros)\n",
    "plt.show()"
   ]
  },
  {
   "cell_type": "code",
   "execution_count": 166,
   "id": "72efe3cf",
   "metadata": {},
   "outputs": [],
   "source": [
    "poly2 = Polynomial([2,-10,1,4])"
   ]
  },
  {
   "cell_type": "code",
   "execution_count": 167,
   "id": "db08ee58",
   "metadata": {},
   "outputs": [
    {
     "data": {
      "text/plain": [
       "0.207916"
      ]
     },
     "execution_count": 167,
     "metadata": {},
     "output_type": "execute_result"
    }
   ],
   "source": [
    "bisection(poly2, (0,1), 1e-4, 50)"
   ]
  },
  {
   "cell_type": "code",
   "execution_count": 168,
   "id": "7d0dbf9d",
   "metadata": {},
   "outputs": [],
   "source": [
    "# function does not work to find the roots when the value of f at both sides of the interval are the same sign, even \n",
    "# if there are roots within the interval\n",
    "bisection(poly2, (-1,2), 1e-4, 50)"
   ]
  },
  {
   "cell_type": "code",
   "execution_count": null,
   "id": "91559132",
   "metadata": {},
   "outputs": [],
   "source": []
  },
  {
   "cell_type": "markdown",
   "id": "4d360347",
   "metadata": {},
   "source": [
    "### Another Bisection Problem : Function Inverse.\n",
    "Suppose `func(x)` is a monotonically increasing, continuous function and `fval = func(x)`. Given a value `fval`, we wish to find the corresponding x value.\n",
    "Write a **recursive** function `inverse(func, fval, interval, tol=1e-4)` that uses **binary search** to find a value `x` in `interval (a, b)` such that `func(x) ≈ fval`, within a given tolerance `tol`. If there is no such `x`, return `None`.\n",
    "Example:\n",
    "```\n",
    "func = lambda x: x**3\n",
    "inverse(func, -27, (-10, 10))\n",
    "```\n",
    "returns -3.000002 because (−3)3 = −27. The value −3.000002 lies in the interval (−10, 10)\n",
    "and is within 10−4 of −3."
   ]
  },
  {
   "cell_type": "code",
   "execution_count": 170,
   "id": "9fb4a528",
   "metadata": {},
   "outputs": [],
   "source": [
    "def inverse(func, fval, interval, tol=1e-4):\n",
    "    a,b = interval\n",
    "    \n",
    "    if (fval < func(a)) or (fval > func(b)):\n",
    "        return None\n",
    "    \n",
    "    if abs(func(a)-fval) < tol:\n",
    "        return a\n",
    "    elif abs(func(b)-fval) < tol:\n",
    "        return b\n",
    "    \n",
    "    mid = (a+b)/2\n",
    "    if abs(func(mid) - fval) < tol:\n",
    "        return mid\n",
    "    elif func(mid) > fval:\n",
    "        return inverse(func, fval, (a,mid), tol=1e-4)\n",
    "    else:\n",
    "        return inverse(func, fval, (mid,b), tol=1e-4)"
   ]
  },
  {
   "cell_type": "code",
   "execution_count": 171,
   "id": "a89cf9c0",
   "metadata": {},
   "outputs": [
    {
     "data": {
      "text/plain": [
       "-3.000001907348633"
      ]
     },
     "execution_count": 171,
     "metadata": {},
     "output_type": "execute_result"
    }
   ],
   "source": [
    "func = lambda x: x**3\n",
    "inverse(func, -27, (-10, 10))"
   ]
  },
  {
   "cell_type": "code",
   "execution_count": null,
   "id": "5347182c",
   "metadata": {},
   "outputs": [],
   "source": []
  }
 ],
 "metadata": {
  "kernelspec": {
   "display_name": "Python 3 (ipykernel)",
   "language": "python",
   "name": "python3"
  },
  "language_info": {
   "codemirror_mode": {
    "name": "ipython",
    "version": 3
   },
   "file_extension": ".py",
   "mimetype": "text/x-python",
   "name": "python",
   "nbconvert_exporter": "python",
   "pygments_lexer": "ipython3",
   "version": "3.9.12"
  }
 },
 "nbformat": 4,
 "nbformat_minor": 5
}
