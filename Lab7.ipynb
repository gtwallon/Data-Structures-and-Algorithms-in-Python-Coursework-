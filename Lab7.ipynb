{
 "cells": [
  {
   "cell_type": "markdown",
   "id": "8d0de03d-2e40-4f68-9334-a6d69cbd82db",
   "metadata": {
    "tags": []
   },
   "source": [
    "# Lab 7\n",
    "\n",
    "___"
   ]
  },
  {
   "cell_type": "code",
   "execution_count": 1,
   "id": "f21bdf9e-5025-482f-9e3f-0792dbf7840b",
   "metadata": {},
   "outputs": [],
   "source": [
    "import math\n",
    "import time"
   ]
  },
  {
   "cell_type": "markdown",
   "id": "b5ecabec-9a9c-4aca-ad88-75fb020ff712",
   "metadata": {},
   "source": [
    "### Rod Cutting\n",
    "Given a rod of length `n` and a list of sale prices for rods of length 1 to `n`, determine the maximum possible revenue if the rod can be cut into integer lengths."
   ]
  },
  {
   "cell_type": "markdown",
   "id": "2fd2d7d7-71dd-4b4e-a1fb-1b8221b0699e",
   "metadata": {},
   "source": [
    "Write a function **`cut_rod(prices, n)`** that uses the exhaustive search (brute force) method to solve the rod cutting problem given a rod length of `n` and an `n`-element list of `prices`. It returns the maximum possible revenue."
   ]
  },
  {
   "cell_type": "code",
   "execution_count": 23,
   "id": "f2eae396",
   "metadata": {},
   "outputs": [],
   "source": [
    "# -math.inf < -100000000000"
   ]
  },
  {
   "cell_type": "code",
   "execution_count": 24,
   "id": "5b809f70-324a-4e06-af84-7f549692b8eb",
   "metadata": {},
   "outputs": [],
   "source": [
    "def cut_rod(prices, n):\n",
    "    if n==0:\n",
    "        return 0\n",
    "    curr_max = -math.inf\n",
    "    for cutlen in range(1, n+1):\n",
    "        curr_max = max(curr_max, prices[cutlen-1] + cut_rod(prices, (n-cutlen)))\n",
    "    return curr_max"
   ]
  },
  {
   "cell_type": "code",
   "execution_count": 25,
   "id": "0c781e07",
   "metadata": {},
   "outputs": [
    {
     "data": {
      "text/plain": [
       "10"
      ]
     },
     "execution_count": 25,
     "metadata": {},
     "output_type": "execute_result"
    }
   ],
   "source": [
    "cut_rod([1,5,8,9], 4)"
   ]
  },
  {
   "cell_type": "code",
   "execution_count": null,
   "id": "43872049",
   "metadata": {},
   "outputs": [],
   "source": []
  },
  {
   "cell_type": "markdown",
   "id": "c24c15a9-5277-46a5-8fb8-30b5bd96d418",
   "metadata": {},
   "source": [
    "Write a function **`cut_rod_memo(prices, n)`** that uses the top-down (memoization) approach to solve the same problem."
   ]
  },
  {
   "cell_type": "code",
   "execution_count": 26,
   "id": "2a96e66e",
   "metadata": {},
   "outputs": [],
   "source": [
    "def cut_rod_memo(prices, n):\n",
    "    rev = [-math.inf] * (n+1)   #initialize revenue array for rodlens 0-n\n",
    "    \n",
    "    def cut_rod_memo_aux(prices, n, rev):\n",
    "        if rev[n]>=0:\n",
    "            return rev[n]\n",
    "        \n",
    "#         curr_max = 0\n",
    "        if n==0:\n",
    "            curr_max = 0\n",
    "        else:\n",
    "            curr_max = -math.inf\n",
    "            for cutlen in range(1, n+1):\n",
    "                curr_max = max(curr_max, prices[cutlen-1] + cut_rod_memo_aux(prices, (n-cutlen), rev))\n",
    "        \n",
    "        rev[n] = curr_max\n",
    "        return curr_max\n",
    "    \n",
    "    return cut_rod_memo_aux(prices, n, rev)"
   ]
  },
  {
   "cell_type": "code",
   "execution_count": 27,
   "id": "6ba2c0b0",
   "metadata": {},
   "outputs": [
    {
     "data": {
      "text/plain": [
       "10"
      ]
     },
     "execution_count": 27,
     "metadata": {},
     "output_type": "execute_result"
    }
   ],
   "source": [
    "cut_rod_memo([1,5,8,9], 4)"
   ]
  },
  {
   "cell_type": "code",
   "execution_count": null,
   "id": "3505837a",
   "metadata": {},
   "outputs": [],
   "source": []
  },
  {
   "cell_type": "markdown",
   "id": "7d88b943-d098-4e06-9585-1d0173bdea3f",
   "metadata": {},
   "source": [
    "Write a function **`cut_rod_bottom(prices, n)`** that uses the bottom-up approach to solve the same problem. This version **returns a tuple** `(max_rev, sizes)` containing the maximum possible revenue and a list of the cut sizes (in any order) that yield the maximum. \n",
    "\n",
    "Example:  \n",
    "`cut_rod_bottom([1, 5, 8, 9], 4)` would return `(10, [2, 2])`."
   ]
  },
  {
   "cell_type": "code",
   "execution_count": 28,
   "id": "fbef7c33-f828-4e0a-9b21-fb55f854dcea",
   "metadata": {},
   "outputs": [],
   "source": [
    "def cut_rod_bottom(prices, n):\n",
    "    rev = [0]*(n+1)\n",
    "    soln = [0]*(n+1)\n",
    "    \n",
    "    for length in range(1, n+1):\n",
    "        curr_max = -math.inf\n",
    "        for cutlen in range(1, length+1):\n",
    "            if curr_max < prices[cutlen-1] + rev[length-cutlen]:\n",
    "                curr_max = prices[cutlen-1] + rev[length-cutlen]\n",
    "                soln[length] = cutlen\n",
    "                \n",
    "        rev[length] = curr_max\n",
    "        \n",
    "    cuts = []\n",
    "    rodlen = n\n",
    "    while rodlen > 0:\n",
    "        cuts.append(soln[rodlen])\n",
    "        rodlen = rodlen - soln[rodlen]\n",
    "    \n",
    "    return rev[n], cuts"
   ]
  },
  {
   "cell_type": "code",
   "execution_count": 29,
   "id": "f68f16bf",
   "metadata": {},
   "outputs": [
    {
     "data": {
      "text/plain": [
       "(10, [2, 2])"
      ]
     },
     "execution_count": 29,
     "metadata": {},
     "output_type": "execute_result"
    }
   ],
   "source": [
    "cut_rod_bottom([1, 5, 8, 9], 4)"
   ]
  },
  {
   "cell_type": "code",
   "execution_count": null,
   "id": "146823a5",
   "metadata": {},
   "outputs": [],
   "source": []
  },
  {
   "cell_type": "code",
   "execution_count": null,
   "id": "7c7776de",
   "metadata": {},
   "outputs": [],
   "source": []
  },
  {
   "cell_type": "code",
   "execution_count": null,
   "id": "8d225eaf",
   "metadata": {},
   "outputs": [],
   "source": []
  },
  {
   "cell_type": "code",
   "execution_count": null,
   "id": "1724d75e",
   "metadata": {},
   "outputs": [],
   "source": []
  },
  {
   "cell_type": "code",
   "execution_count": null,
   "id": "315ad8e0",
   "metadata": {},
   "outputs": [],
   "source": []
  },
  {
   "cell_type": "code",
   "execution_count": null,
   "id": "a5bf5cbc",
   "metadata": {},
   "outputs": [],
   "source": []
  },
  {
   "cell_type": "code",
   "execution_count": null,
   "id": "e065b106",
   "metadata": {},
   "outputs": [],
   "source": []
  },
  {
   "cell_type": "code",
   "execution_count": null,
   "id": "5734d706",
   "metadata": {},
   "outputs": [],
   "source": []
  },
  {
   "cell_type": "code",
   "execution_count": null,
   "id": "8cd7d5df",
   "metadata": {},
   "outputs": [],
   "source": []
  }
 ],
 "metadata": {
  "kernelspec": {
   "display_name": "Python 3 (ipykernel)",
   "language": "python",
   "name": "python3"
  },
  "language_info": {
   "codemirror_mode": {
    "name": "ipython",
    "version": 3
   },
   "file_extension": ".py",
   "mimetype": "text/x-python",
   "name": "python",
   "nbconvert_exporter": "python",
   "pygments_lexer": "ipython3",
   "version": "3.9.12"
  }
 },
 "nbformat": 4,
 "nbformat_minor": 5
}
