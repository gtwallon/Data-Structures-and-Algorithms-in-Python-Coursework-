{
 "cells": [
  {
   "cell_type": "markdown",
   "id": "903077ab-ec46-4dd5-af07-4e2711aae696",
   "metadata": {
    "tags": []
   },
   "source": [
    "# HW 10\n",
    "___"
   ]
  },
  {
   "cell_type": "code",
   "execution_count": 1,
   "id": "a2bc32f2",
   "metadata": {},
   "outputs": [],
   "source": [
    "import numpy as np"
   ]
  },
  {
   "cell_type": "markdown",
   "id": "9e62264c-54a9-4611-bf86-13c0e392d5df",
   "metadata": {},
   "source": [
    "### Driving Routes\n",
    "Your local gym is located $m$ blocks south and $n$ blocks east of your current location. In addition,\n",
    "\n",
    "* The streets in your town are arranged in a rectangular grid along the north-south and east-west directions.\n",
    "* You always travel south or east toward the gym, driving the minimum number of blocks.\n",
    "* One or more intersections in the grid may be blocked due to road maintenance projects. \n",
    "\n",
    "How many possible driving routes to the gym are there? Write a function **`driving_routes(m, n, blocked)`** that returns the number of possible routes to your destination where `blocked` is a list of `(i, j)` blocked intersections located $i$ blocks south and $j$ blocks east of your current location, $0 \\le i \\le m$, $0 \\le j \\le n$. **Use dynamic programming** to compute the answer. (Assume that the upper left and lower right intersections are not blocked.)\n",
    "\n",
    "Example:  \n",
    "`driving_routes(3, 5, [(0, 3), (2, 1)])` returns `31`. Shown below is one of the routes.\n",
    "\n",
    "<img src=\"http://www.coloradomath.org/python/car_to_gym.jpg\" width=\"349\" height=\"232\" />\n"
   ]
  },
  {
   "cell_type": "code",
   "execution_count": null,
   "id": "90e29d9f",
   "metadata": {},
   "outputs": [],
   "source": []
  },
  {
   "cell_type": "code",
   "execution_count": null,
   "id": "082bd678",
   "metadata": {},
   "outputs": [],
   "source": []
  },
  {
   "cell_type": "code",
   "execution_count": null,
   "id": "2048884f",
   "metadata": {},
   "outputs": [],
   "source": []
  },
  {
   "cell_type": "code",
   "execution_count": null,
   "id": "2d0ed4c3",
   "metadata": {},
   "outputs": [],
   "source": []
  },
  {
   "cell_type": "code",
   "execution_count": null,
   "id": "ae371bec",
   "metadata": {},
   "outputs": [],
   "source": []
  },
  {
   "cell_type": "code",
   "execution_count": null,
   "id": "f092dbde",
   "metadata": {},
   "outputs": [],
   "source": []
  },
  {
   "cell_type": "code",
   "execution_count": 141,
   "id": "84f9f295",
   "metadata": {},
   "outputs": [],
   "source": [
    "def driving_routes(m, n, blocked):\n",
    "    routes = np.zeros((m+1,n+1))\n",
    "\n",
    "    for i in range(m,-1,-1):\n",
    "        for j in range(n,-1,-1):\n",
    "            if (i,j) == (m,n):\n",
    "                routes[i,j] = 1\n",
    "            elif (i,j) in blocked:\n",
    "                routes[i,j] = 0\n",
    "            elif i == m:           # if entry is in the last row\n",
    "                routes[i,j] = routes[i, j+1]\n",
    "            elif j == n:          # if entry is in the last column\n",
    "                routes[i,j] = routes[i+1, j]\n",
    "            else:\n",
    "                routes[i,j] = routes[i, j+1] + routes[i+1, j]\n",
    "    \n",
    "    return int(routes[0,0])"
   ]
  },
  {
   "cell_type": "code",
   "execution_count": 142,
   "id": "60b8dd89",
   "metadata": {},
   "outputs": [
    {
     "data": {
      "text/plain": [
       "31"
      ]
     },
     "execution_count": 142,
     "metadata": {},
     "output_type": "execute_result"
    }
   ],
   "source": [
    "driving_routes(3, 5, [(0, 3), (2, 1)])"
   ]
  },
  {
   "cell_type": "code",
   "execution_count": 143,
   "id": "7d07584a",
   "metadata": {},
   "outputs": [
    {
     "data": {
      "text/plain": [
       "117"
      ]
     },
     "execution_count": 143,
     "metadata": {},
     "output_type": "execute_result"
    }
   ],
   "source": [
    "driving_routes(6, 4, [(4, 0), (1,3), (5,2)])"
   ]
  },
  {
   "cell_type": "code",
   "execution_count": null,
   "id": "0f6ce0ab",
   "metadata": {},
   "outputs": [],
   "source": []
  },
  {
   "cell_type": "code",
   "execution_count": null,
   "id": "211341ff",
   "metadata": {},
   "outputs": [],
   "source": []
  }
 ],
 "metadata": {
  "kernelspec": {
   "display_name": "Python 3 (ipykernel)",
   "language": "python",
   "name": "python3"
  },
  "language_info": {
   "codemirror_mode": {
    "name": "ipython",
    "version": 3
   },
   "file_extension": ".py",
   "mimetype": "text/x-python",
   "name": "python",
   "nbconvert_exporter": "python",
   "pygments_lexer": "ipython3",
   "version": "3.9.12"
  }
 },
 "nbformat": 4,
 "nbformat_minor": 5
}
