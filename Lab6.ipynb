{
 "cells": [
  {
   "cell_type": "markdown",
   "id": "0237ef09-f959-4a0b-bc23-c6d0b27a1ac1",
   "metadata": {
    "tags": []
   },
   "source": [
    "# Lab 6\n",
    "\n",
    "___"
   ]
  },
  {
   "cell_type": "code",
   "execution_count": 1,
   "id": "fb5b7d4a-3474-497b-bd8d-ecb9de2db758",
   "metadata": {
    "tags": []
   },
   "outputs": [],
   "source": [
    "import random\n",
    "import numpy as np\n",
    "import time"
   ]
  },
  {
   "cell_type": "markdown",
   "id": "cad2a4ff-9666-4732-8d3d-cb21e60bc505",
   "metadata": {},
   "source": [
    "Sorting Algorithms\n",
    "Visualizations:\n",
    "https://www.cs.usfca.edu/~galles/visualization/ComparisonSort.html\n",
    "https://www.sortvisualizer.com/\n",
    "https://www.toptal.com/developers/sorting-algorithms\n",
    "https://www.youtube.com/watch?v=lyZQPjUT5B4"
   ]
  },
  {
   "cell_type": "markdown",
   "id": "05721d33-a97d-43ad-8e71-c6959b20ff5e",
   "metadata": {},
   "source": [
    "### Partition\n",
    "\n",
    "Write a function **`partition(arr, start, end)`** that takes a list of elements from index `start` to `end`, and modifies the list in place using the element with index `end` as the pivot element. The function separates the elements into 3 groups: the elements smaller than or equal to the pivot, the pivot, and the elements greater than the pivot. The function returns the new index of the pivot."
   ]
  },
  {
   "cell_type": "code",
   "execution_count": 2,
   "id": "4fd4a09d",
   "metadata": {},
   "outputs": [],
   "source": [
    "def partition(arr, start, end):\n",
    "    pivot = arr[end]\n",
    "    div = start-1\n",
    "    for j in range(start, end):\n",
    "        if arr[j] <= pivot:\n",
    "            div += 1\n",
    "            temp = arr[j]\n",
    "            arr[j] = arr[div]\n",
    "            arr[div] = temp\n",
    "    temp = arr[end]\n",
    "    arr[end] = arr[div+1]\n",
    "    arr[div+1] = temp\n",
    "    return div+1"
   ]
  },
  {
   "cell_type": "code",
   "execution_count": 3,
   "id": "35935348",
   "metadata": {},
   "outputs": [
    {
     "data": {
      "text/plain": [
       "[0, 1, 2, 3, 4, 5, 6]"
      ]
     },
     "execution_count": 3,
     "metadata": {},
     "output_type": "execute_result"
    }
   ],
   "source": [
    "list(range(0, 7))"
   ]
  },
  {
   "cell_type": "markdown",
   "id": "fef97242-787b-4fc8-a7fe-79c54f023bfe",
   "metadata": {},
   "source": [
    "Write a function **`quicksort(arr, start, end, partition_func)`** that uses the **quicksort** algorithm to sort a list of elements from index `start` to `end`, inclusive, applying the given partition method. The function will modify the input list `arr`, reordering the elements in place. Test your `quicksort` function using `partition()`.\n",
    "\n",
    "Example:\n",
    "```\n",
    "nums = [3, 5.7, 1, 9, 8, 2.6]\n",
    "print(partition(nums, 1, 4))\n",
    "nums\n",
    "```\n",
    "displays\n",
    "```\n",
    "3\n",
    "[3, 5.7, 1, 8, 9, 2.6]\n",
    "```\n",
    "and\n",
    "```\n",
    "quicksort(nums, 0, 5, partition)\n",
    "nums\n",
    "```\n",
    "displays `[1, 2.6, 3, 5.7, 8, 9]`."
   ]
  },
  {
   "cell_type": "code",
   "execution_count": 54,
   "id": "6250d119-ab9b-4bda-9108-10f616b8caf5",
   "metadata": {},
   "outputs": [],
   "source": [
    "def quicksort(arr, start, end, partition_func):\n",
    "    if start<end:\n",
    "        q = partition_func(arr, start, end)\n",
    "        quicksort(arr, start, q-1, partition_func)\n",
    "        quicksort(arr, q+1, end, partition_func)"
   ]
  },
  {
   "cell_type": "code",
   "execution_count": 55,
   "id": "558c4455",
   "metadata": {},
   "outputs": [
    {
     "name": "stdout",
     "output_type": "stream",
     "text": [
      "3\n"
     ]
    },
    {
     "data": {
      "text/plain": [
       "[3, 5.7, 1, 8, 9, 2.6]"
      ]
     },
     "execution_count": 55,
     "metadata": {},
     "output_type": "execute_result"
    }
   ],
   "source": [
    "nums = [3, 5.7, 1, 9, 8, 2.6]\n",
    "print(partition(nums, 1, 4))\n",
    "nums"
   ]
  },
  {
   "cell_type": "code",
   "execution_count": 56,
   "id": "2469fffb",
   "metadata": {},
   "outputs": [
    {
     "data": {
      "text/plain": [
       "[1, 2.6, 3, 5.7, 8, 9]"
      ]
     },
     "execution_count": 56,
     "metadata": {},
     "output_type": "execute_result"
    }
   ],
   "source": [
    "quicksort(nums, 0, 5, partition)\n",
    "nums"
   ]
  },
  {
   "cell_type": "markdown",
   "id": "78cc735e-5620-4b90-92ef-b869839f1834",
   "metadata": {},
   "source": [
    "### Randomized Partitioning"
   ]
  },
  {
   "cell_type": "markdown",
   "id": "3eaf574f-3589-4b01-87e8-2f93a13645bf",
   "metadata": {},
   "source": [
    "Write a variation of the partioning function called **`randomized_partition(arr, start, end)`** that begins by selecting a random element from `arr` to use as the pivot. This element is swapped with the last element. Then `partition()` is called to complete the partitioning. Use `random.randint()` to select an index at random.\n",
    "\n",
    "Run **`quicksort()`** using this partitioning function on a list of 100 random numbers."
   ]
  },
  {
   "cell_type": "code",
   "execution_count": 71,
   "id": "0caa0036-2ce0-4a16-a63f-7ef7bab641eb",
   "metadata": {},
   "outputs": [],
   "source": [
    "def randomized_partition(arr, start, end):\n",
    "    piv = random.randint(start,end)\n",
    "    temp = arr[piv]\n",
    "    arr[piv] = arr[end]\n",
    "    arr[end] = temp\n",
    "    return partition(arr, start, end)"
   ]
  },
  {
   "cell_type": "code",
   "execution_count": 72,
   "id": "a7d53cd5",
   "metadata": {},
   "outputs": [],
   "source": [
    "randlst2 = [random.randint(0,10) for _ in range(10)]\n",
    "# randlst2"
   ]
  },
  {
   "cell_type": "code",
   "execution_count": 73,
   "id": "9477070d",
   "metadata": {},
   "outputs": [],
   "source": [
    "quicksort(randlst2, 0, 9, randomized_partition)"
   ]
  },
  {
   "cell_type": "code",
   "execution_count": 74,
   "id": "6f2cbddb",
   "metadata": {
    "scrolled": true
   },
   "outputs": [
    {
     "data": {
      "text/plain": [
       "[2, 2, 3, 5, 6, 7, 8, 8, 8, 10]"
      ]
     },
     "execution_count": 74,
     "metadata": {},
     "output_type": "execute_result"
    }
   ],
   "source": [
    "randlst2"
   ]
  },
  {
   "cell_type": "code",
   "execution_count": 75,
   "id": "1be82175",
   "metadata": {},
   "outputs": [],
   "source": [
    "randlst1 = [random.randint(-30,30) for _ in range(100)]\n",
    "# randlst1"
   ]
  },
  {
   "cell_type": "code",
   "execution_count": 76,
   "id": "955df204",
   "metadata": {},
   "outputs": [],
   "source": [
    "quicksort(randlst1, 0, 99, randomized_partition)"
   ]
  },
  {
   "cell_type": "code",
   "execution_count": 78,
   "id": "a38beb67",
   "metadata": {},
   "outputs": [],
   "source": [
    "# randlst1"
   ]
  },
  {
   "cell_type": "markdown",
   "id": "140394ac-320c-446f-a83b-3811db851f3a",
   "metadata": {},
   "source": [
    "### Median-of-3 Partitioning\n",
    "By applying randomized partitioning in quicksort, we can avoid worst-case partitioning in most cases. We can achieve even more balanced partitions by using the **median-of-3 partition** method which chooses the pivot as the median of a set of 3 elements randomly selected from the array. This element is swapped with the last element, then `partition()` is called to complete the partitioning. (*Hints:* Use `random.sample(range(...))` to select 3 distinct indices at random. Recall that in Python you can write a conditional expression like `a < b <= c`.)"
   ]
  },
  {
   "cell_type": "code",
   "execution_count": 134,
   "id": "a05b2c43-7ce2-4da4-8d41-9ea36f782673",
   "metadata": {},
   "outputs": [],
   "source": [
    "def median3_partition(arr, start, end):\n",
    "    a,b,c = [random.sample(range(start, end), 1)[0] for _ in range(3)]\n",
    "    med = 0\n",
    "    if a<b<c or c<b<a:\n",
    "        med=b\n",
    "    elif b<a<c or c<a<b:\n",
    "        med=a\n",
    "    else:\n",
    "        med=c\n",
    "    temp = arr[med]\n",
    "    arr[med] = arr[end]\n",
    "    arr[end] = temp\n",
    "    return partition(arr, start, end)"
   ]
  },
  {
   "cell_type": "code",
   "execution_count": 145,
   "id": "3b8092a5",
   "metadata": {},
   "outputs": [],
   "source": [
    "randlst2 = [random.randint(0,10) for _ in range(10)]\n",
    "# randlst2"
   ]
  },
  {
   "cell_type": "code",
   "execution_count": 146,
   "id": "ed1e6436",
   "metadata": {},
   "outputs": [],
   "source": [
    "quicksort(randlst2, 0, 9, median3_partition)"
   ]
  },
  {
   "cell_type": "code",
   "execution_count": 147,
   "id": "869c19de",
   "metadata": {
    "scrolled": true
   },
   "outputs": [
    {
     "data": {
      "text/plain": [
       "[0, 1, 2, 3, 4, 7, 8, 8, 10, 10]"
      ]
     },
     "execution_count": 147,
     "metadata": {},
     "output_type": "execute_result"
    }
   ],
   "source": [
    "randlst2"
   ]
  },
  {
   "cell_type": "markdown",
   "id": "c8b97dca-ce6f-444a-8e2b-8a0457260bd6",
   "metadata": {
    "tags": []
   },
   "source": [
    "### Runtimes\n",
    "Compare the running times of `quicksort()` applying the 3 partition methods with this list as input:\n",
    "```\n",
    "arr = list(range(100))\n",
    "```"
   ]
  },
  {
   "cell_type": "code",
   "execution_count": 138,
   "id": "180856aa-e0e3-447d-82cf-6ecda3ed7f91",
   "metadata": {},
   "outputs": [],
   "source": [
    "arr = list(range(100))"
   ]
  },
  {
   "cell_type": "code",
   "execution_count": 149,
   "id": "d4e307ab",
   "metadata": {},
   "outputs": [
    {
     "data": {
      "text/plain": [
       "'Time = 0.0020318031311035156'"
      ]
     },
     "execution_count": 149,
     "metadata": {},
     "output_type": "execute_result"
    }
   ],
   "source": [
    "start1=time.time()\n",
    "quicksort(arr, 0, 99, partition)\n",
    "end1=time.time()\n",
    "f'Time = {end1-start1}'"
   ]
  },
  {
   "cell_type": "code",
   "execution_count": 150,
   "id": "d1371c8c",
   "metadata": {},
   "outputs": [
    {
     "data": {
      "text/plain": [
       "'Time = 0.0005309581756591797'"
      ]
     },
     "execution_count": 150,
     "metadata": {},
     "output_type": "execute_result"
    }
   ],
   "source": [
    "start2=time.time()\n",
    "quicksort(arr, 0, 99, randomized_partition)\n",
    "end2=time.time()\n",
    "f'Time = {end2-start2}'"
   ]
  },
  {
   "cell_type": "code",
   "execution_count": 151,
   "id": "912cf585",
   "metadata": {},
   "outputs": [
    {
     "data": {
      "text/plain": [
       "'Time = 0.0014090538024902344'"
      ]
     },
     "execution_count": 151,
     "metadata": {},
     "output_type": "execute_result"
    }
   ],
   "source": [
    "start3=time.time()\n",
    "quicksort(arr, 0, 99, median3_partition)\n",
    "end3=time.time()\n",
    "f'Time = {end3-start3}'"
   ]
  },
  {
   "cell_type": "code",
   "execution_count": null,
   "id": "009d5015",
   "metadata": {},
   "outputs": [],
   "source": []
  }
 ],
 "metadata": {
  "kernelspec": {
   "display_name": "Python 3 (ipykernel)",
   "language": "python",
   "name": "python3"
  },
  "language_info": {
   "codemirror_mode": {
    "name": "ipython",
    "version": 3
   },
   "file_extension": ".py",
   "mimetype": "text/x-python",
   "name": "python",
   "nbconvert_exporter": "python",
   "pygments_lexer": "ipython3",
   "version": "3.9.12"
  }
 },
 "nbformat": 4,
 "nbformat_minor": 5
}
