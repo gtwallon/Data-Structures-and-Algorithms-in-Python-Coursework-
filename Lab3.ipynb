{
 "cells": [
  {
   "cell_type": "markdown",
   "id": "61d6ff2f-f772-4885-b73f-2ba789822cb9",
   "metadata": {},
   "source": [
    "# Lab3"
   ]
  },
  {
   "cell_type": "code",
   "execution_count": 7,
   "id": "c3f5dccf-6d45-4e42-8381-f7fa1241b7f0",
   "metadata": {},
   "outputs": [],
   "source": [
    "import random\n",
    "import numpy as np\n",
    "import time\n",
    "import math"
   ]
  },
  {
   "cell_type": "markdown",
   "id": "9ef59489-ad61-455d-b281-9a4790e4ecf5",
   "metadata": {},
   "source": [
    "### Jupyter Debugger\n",
    "https://jupyterlab.readthedocs.io/en/stable/user/debugger.html\n",
    "\n",
    "Practice debugging the following code by setting breakpoints and examining the values of the variables."
   ]
  },
  {
   "cell_type": "code",
   "execution_count": 6,
   "id": "522179d5-b94c-4950-84d9-b82b0e812fc7",
   "metadata": {},
   "outputs": [],
   "source": [
    "# helper function to demonstrate the debugger step function\n",
    "def fetch_bin(n):\n",
    "    return bin(n)[2:]"
   ]
  },
  {
   "cell_type": "code",
   "execution_count": 7,
   "id": "ad26b5b2-f6e3-4fa2-902b-14a3ee33c147",
   "metadata": {},
   "outputs": [],
   "source": [
    "def fast_power(b, n):\n",
    "    '''Calculate b**n using squares of powers where n is a non-negative integer.'''\n",
    "    result = 1\n",
    "    b_exp = b\n",
    "    n_bin = fetch_bin(n)\n",
    "    \n",
    "    for bit in reversed(n_bin):\n",
    "        if bit == '1':\n",
    "            result *= b_exp\n",
    "        b_exp **= 2\n",
    "    \n",
    "    return result"
   ]
  },
  {
   "cell_type": "code",
   "execution_count": 8,
   "id": "6a16b909-9ff1-4e3a-86bf-940c988240ec",
   "metadata": {
    "tags": []
   },
   "outputs": [
    {
     "data": {
      "text/plain": [
       "1594323"
      ]
     },
     "execution_count": 8,
     "metadata": {},
     "output_type": "execute_result"
    }
   ],
   "source": [
    "fast_power(3, 13)"
   ]
  },
  {
   "cell_type": "markdown",
   "id": "5ca0e458-7389-4137-85ef-6fc560281f10",
   "metadata": {},
   "source": [
    "### Code Tracing and Complexity\n",
    "Each of the following 4 functions uses a loop to compute a value. For each function:\n",
    "* Explain what the function is computing.\n",
    "* Use an asymptotic expression to estimate the number of operations performed within the loop (not counting the operations of the loop itself). \n",
    "\n",
    "Choose from the following possible answers. Justification is not necessary.<br>\n",
    "1. $\\Theta(1)$\n",
    "2. $\\Theta(\\log n)$\n",
    "3. $\\Theta(\\log (m+n))$\n",
    "4. $\\Theta(\\log (mn))$\n",
    "5. $\\Theta(n)$\n",
    "7. $\\Theta(m+n)$\n",
    "8. $\\Theta(mn)$\n",
    "6. $\\Theta(n\\log n)$\n",
    "9. $\\Theta(mn\\log(mn))$\n",
    "10. $\\Theta(n^2)$\n",
    "11. $\\Theta(m^2n^2)$\n",
    "12. $\\Theta(n^2\\log n)$\n",
    "12. $\\Theta(m^2n^2\\log (mn))$\n",
    "13. None of these"
   ]
  },
  {
   "cell_type": "markdown",
   "id": "f13a7b56-c019-4e8e-abc7-352b6f99528d",
   "metadata": {},
   "source": [
    "### Example 1\n",
    "* Explain what FUNC1 is computing.\n",
    "* Find an asymptotic expression for the number of multiplications performed.\n",
    "```\n",
    "FUNC1(m, n)\n",
    "    x = 0\n",
    "    for i = 1 to m\n",
    "        for j = 1 to n\n",
    "            x = x + i*j\n",
    "            \n",
    "    return x\n",
    "```"
   ]
  },
  {
   "cell_type": "markdown",
   "id": "e9dbbb80-e35a-421f-9cc4-155555d9bdbc",
   "metadata": {},
   "source": [
    "**Explain what FUNC1 is computing:**\n",
    "FUNC1 is computing the sum of 1 to n multiplied by the sum of 1 to m. \n"
   ]
  },
  {
   "cell_type": "code",
   "execution_count": 1,
   "id": "9953fed4-7a4d-4a2e-89c4-1a9bfc1e5c21",
   "metadata": {},
   "outputs": [],
   "source": [
    "asymp_func1_mults = 7"
   ]
  },
  {
   "cell_type": "markdown",
   "id": "1792c926-ea64-479d-bac5-67fd9a0411da",
   "metadata": {},
   "source": [
    "### Example 2\n",
    "* Explain what FUNC2 is computing.\n",
    "* Find an asymptotic expression for the number of additions performed.\n",
    "```\n",
    "FUNC2(m, n)\n",
    "    x = 0\n",
    "    for i = 1 to m\n",
    "        for j = i to n\n",
    "            x = x + i + j\n",
    "            \n",
    "    return x\n",
    "```"
   ]
  },
  {
   "cell_type": "code",
   "execution_count": 4,
   "id": "c6a61198",
   "metadata": {},
   "outputs": [],
   "source": [
    "def FUNC2(m, n):\n",
    "    x = 0\n",
    "    for i in range(1, m+1):\n",
    "        for j in range(1, n+1):\n",
    "            x = x + i + j\n",
    "\n",
    "    return x"
   ]
  },
  {
   "cell_type": "code",
   "execution_count": 5,
   "id": "c8ee0ed5",
   "metadata": {},
   "outputs": [
    {
     "data": {
      "text/plain": [
       "425"
      ]
     },
     "execution_count": 5,
     "metadata": {},
     "output_type": "execute_result"
    }
   ],
   "source": [
    "FUNC2(5, 10)"
   ]
  },
  {
   "cell_type": "markdown",
   "id": "a076082f-7655-4760-b1a4-cc108fcb5743",
   "metadata": {},
   "source": [
    "**Explain what FUNC2 is computing:**\n",
    "FUNC2 is computing $\\sum \\limits_{i = 1}^{m} \\frac{(2i+i+n)(-2i+i+n+1)}{2}$"
   ]
  },
  {
   "cell_type": "code",
   "execution_count": 47,
   "id": "806429b4-a6a9-434f-8e2d-efc2f5e0b2e8",
   "metadata": {},
   "outputs": [],
   "source": [
    "asymp_func2_adds = 7"
   ]
  },
  {
   "cell_type": "markdown",
   "id": "f874a21b-97bc-48a8-b222-6dcc93e2e1b6",
   "metadata": {},
   "source": [
    "### Example 3\n",
    "* Explain what FUNC3 is computing.\n",
    "* Find an asymptotic expression for the number of multiplications performed.\n",
    "* Find an asymptotic expression for the number of `max` comparisons performed.\n",
    "```\n",
    "FUNC3(A)\n",
    "    m = 0\n",
    "    for i = 1 to A.length\n",
    "        for j = i+1 to A.length\n",
    "            m = max(A[i]*A[j], m)\n",
    "            \n",
    "    return m\n",
    "```"
   ]
  },
  {
   "cell_type": "markdown",
   "id": "3b720c8e-92a0-4948-b658-7f739d74f478",
   "metadata": {},
   "source": [
    "**Explain what FUNC3 is computing:**\n",
    "FUNC3 is computing the maximum product between any two numbers in the array. "
   ]
  },
  {
   "cell_type": "code",
   "execution_count": 1,
   "id": "78f3419d-27aa-4b8e-9a76-caf90430fa00",
   "metadata": {},
   "outputs": [],
   "source": [
    "asymp_func3_compares = 10"
   ]
  },
  {
   "cell_type": "markdown",
   "id": "b032beb8-bfcb-48a4-8f34-3c5d97d23207",
   "metadata": {},
   "source": [
    "### Example 4\n",
    "* Explain what FUNC4 is computing.\n",
    "* Find an asymptotic expression for the number of multiplications performed.\n",
    "* Find an asymptotic expression for the number of additions performed.\n",
    "```\n",
    "FUNC4(n)\n",
    "    i = 1\n",
    "    x = 0\n",
    "    while i <= n\n",
    "        x = x + i\n",
    "        i = 2*i\n",
    "            \n",
    "    return x\n",
    "```"
   ]
  },
  {
   "cell_type": "markdown",
   "id": "95f9a0f6-9cb7-45ae-9144-eaec8fa3139e",
   "metadata": {},
   "source": [
    "**Explain what FUNC4 is computing:**\n",
    "FUNC4 is computing $2^{(\\floor(log_2(n)) +1)} - 1$"
   ]
  },
  {
   "cell_type": "code",
   "execution_count": 15,
   "id": "4462f0ac-dd50-4ec8-90c6-a9770f9c50f6",
   "metadata": {},
   "outputs": [],
   "source": [
    "asymp_func4_adds = 2"
   ]
  },
  {
   "cell_type": "code",
   "execution_count": 4,
   "id": "31235a9b",
   "metadata": {},
   "outputs": [],
   "source": [
    "def FUNC4(n):\n",
    "    i = 1\n",
    "    x = 0\n",
    "    while i <= n:\n",
    "        x = x + i\n",
    "        i = 2*i\n",
    "\n",
    "    return x"
   ]
  },
  {
   "cell_type": "code",
   "execution_count": 13,
   "id": "aca74324",
   "metadata": {},
   "outputs": [
    {
     "data": {
      "text/plain": [
       "1"
      ]
     },
     "execution_count": 13,
     "metadata": {},
     "output_type": "execute_result"
    }
   ],
   "source": [
    "FUNC4(1)"
   ]
  },
  {
   "cell_type": "code",
   "execution_count": 14,
   "id": "74e930c9",
   "metadata": {},
   "outputs": [
    {
     "data": {
      "text/plain": [
       "1"
      ]
     },
     "execution_count": 14,
     "metadata": {},
     "output_type": "execute_result"
    }
   ],
   "source": [
    "2**(math.floor(math.log2(1))+1)-1"
   ]
  },
  {
   "cell_type": "markdown",
   "id": "1167fd9d-7d14-4a59-bc5a-da6819da4cea",
   "metadata": {
    "tags": []
   },
   "source": [
    "___\n",
    "\n",
    "# Extra Problems\n",
    "The following problem is optional."
   ]
  },
  {
   "cell_type": "markdown",
   "id": "49fa5555-fe6c-476a-a56a-841b8e288529",
   "metadata": {
    "tags": []
   },
   "source": [
    "### Compare Runtimes for Squaring Numbers\n",
    "When squaring each number `x` in a list, is it faster to execute `x*x` or `x**2`? What if we use numpy vectorization? Write four different functions that will take a list (or array) of numbers and return a list (or array) of the squares.\n",
    "* **`square_nums1(num_list)`**: Takes a list of numbers and uses multiplication: `x * x` and a list comprehension to square the numbers.\n",
    "* **`square_nums2(num_list)`**: Takes a list of numbers and uses exponentiation: `x ** 2` and a list comprehension to square the numbers.\n",
    "* **`square_nums3(num_array)`**: Takes an array of numbers and multiplies the array by itself using `*` vectorization. It returns the result as an array.\n",
    "* **`square_nums4(num_array)`**: Takes an array of numbers and squares the array using `**2` vectorization. It returns the result as an array.\n",
    "    \n",
    "Compare the runtimes for these 4 functions using a list of 50000 random numbers as input."
   ]
  },
  {
   "cell_type": "code",
   "execution_count": null,
   "id": "b935ce1a-4d07-4f16-8e36-bbc9b78cc846",
   "metadata": {},
   "outputs": [],
   "source": []
  }
 ],
 "metadata": {
  "kernelspec": {
   "display_name": "Python 3 (ipykernel)",
   "language": "python",
   "name": "python3"
  },
  "language_info": {
   "codemirror_mode": {
    "name": "ipython",
    "version": 3
   },
   "file_extension": ".py",
   "mimetype": "text/x-python",
   "name": "python",
   "nbconvert_exporter": "python",
   "pygments_lexer": "ipython3",
   "version": "3.9.12"
  }
 },
 "nbformat": 4,
 "nbformat_minor": 5
}
