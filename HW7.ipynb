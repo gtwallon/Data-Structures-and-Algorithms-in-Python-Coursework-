{
 "cells": [
  {
   "cell_type": "markdown",
   "id": "9f131d1e-31a4-4204-a7d6-3a8b14a56eb1",
   "metadata": {
    "tags": []
   },
   "source": [
    "# HW 7\n",
    "___"
   ]
  },
  {
   "cell_type": "markdown",
   "id": "71c6ad78-d5b7-4b6f-9659-7508f4c4daa4",
   "metadata": {
    "tags": []
   },
   "source": [
    "### Binary Search Tree\n",
    "The code below defines the class **`BST`** which represents a binary search tree containing **`BSTNode`** objects. A `BST` object has the attribute\n",
    "* `root` which points to the `BSTNode` located at the root of the tree\n",
    "\n",
    "and a `BSTNode` object has the attributes\n",
    "* `key`\n",
    "* `data`\n",
    "* `parent`\n",
    "* `left`\n",
    "* `right`."
   ]
  },
  {
   "cell_type": "code",
   "execution_count": 105,
   "id": "841b92e3",
   "metadata": {},
   "outputs": [],
   "source": [
    "def transplant(T, u, v):\n",
    "    if u.parent == None:\n",
    "        T.root = v\n",
    "    elif u == u.parent.left:\n",
    "        u.parent.left = v\n",
    "    else:\n",
    "        u.parent.right = v\n",
    "    if v!= None:\n",
    "        v.parent = u.parent"
   ]
  },
  {
   "cell_type": "code",
   "execution_count": 106,
   "id": "47db3d6b-8991-42ac-b6da-ee74dda0c8a3",
   "metadata": {},
   "outputs": [],
   "source": [
    "class BSTNode:\n",
    "    '''A node in a binary search tree'''\n",
    "    def __init__(self, key, satellite):\n",
    "        self.key = key\n",
    "        self.data = satellite\n",
    "        self.parent = None\n",
    "        self.left = None\n",
    "        self.right = None\n",
    "            \n",
    "    def keys(self):\n",
    "        x = self\n",
    "        if x != None:\n",
    "            if x.left != None:\n",
    "                l = x.left.keys()\n",
    "            else:\n",
    "                l = []\n",
    "            mid = [x.key]\n",
    "            if x.right != None:\n",
    "                r = x.right.keys()\n",
    "            else:\n",
    "                r = []\n",
    "            return l + mid + r\n",
    "    \n",
    "    def search(self, key):\n",
    "        if self == None or self.key == key:\n",
    "            return self\n",
    "        if key < self.key:\n",
    "            return self.left.search(key)\n",
    "        else:\n",
    "            return self.right.search(key)\n",
    "    \n",
    "    def min(self):\n",
    "        x = self\n",
    "        while x.left != None:\n",
    "            x = x.left\n",
    "        return x\n",
    "    \n",
    "    def max(self):\n",
    "        x = self\n",
    "        while x.right != None:\n",
    "            x = x.right\n",
    "        return x\n",
    "    \n",
    "        \n",
    "class BST:\n",
    "    '''Binary search tree containing BSTNodes'''\n",
    "    def __init__(self, node):\n",
    "        self.root = node\n",
    "\n",
    "    def insert(self, node):\n",
    "        prev = None\n",
    "        curr = self.root\n",
    "        while curr != None:      # traverse to bottom of tree\n",
    "            prev = curr\n",
    "            if node.key < curr.key:\n",
    "                curr = curr.left\n",
    "            else:\n",
    "                curr = curr.right\n",
    "        node.parent = prev\n",
    "        if prev == None:        # tree is empty\n",
    "            self.root = node\n",
    "        elif node.key < prev.key:\n",
    "            prev.left = node\n",
    "        else:\n",
    "            prev.right = node\n",
    "            \n",
    "            \n",
    "    def successor(self, node):\n",
    "        x = node\n",
    "        if x.right != None:\n",
    "            return x.right.min()\n",
    "        else:\n",
    "            y = x.parent\n",
    "            while y!=None and x==y.right:\n",
    "                x = y\n",
    "                y = y.parent\n",
    "            return y\n",
    "        \n",
    "    def delete(self, node):\n",
    "        if node.left == None:\n",
    "            transplant(self, node, node.right)\n",
    "        elif node.right == None:\n",
    "            transplant(self, node, node.left)\n",
    "        else:\n",
    "            # node has 2 children\n",
    "            succ = node.right.min()\n",
    "            if succ.parent != node:\n",
    "                transplant(self, succ, succ.right)\n",
    "                succ.right = node.right\n",
    "                succ.right.parent = succ\n",
    "            transplant(self, node, succ)\n",
    "            succ.left = node.left\n",
    "            succ.left.parent = succ"
   ]
  },
  {
   "cell_type": "markdown",
   "id": "6ad74b2c-3c81-4d7c-813a-93f0c0f4a9bb",
   "metadata": {},
   "source": [
    "Add these `BSTNode` methods:\n",
    "* **`keys()`** returns a list of the keys in the BST (or subtree) in order starting with the given node. (Do not call a sort routine.)\n",
    "* **`search(key)`** returns the node corresponding to `key` or returns `None` if `key` is not found. The search begins with the given node and extends to its subtree.\n"
   ]
  },
  {
   "cell_type": "markdown",
   "id": "d0994263-03f5-417e-9454-08e1c63adc0d",
   "metadata": {},
   "source": [
    "Add this `BST` method:\n",
    "* **`insert(node)`** inserts a new `BSTNode` into the tree in an appropriate position. No value is returned.\n",
    "\n",
    "Example:<br>\n",
    "```\n",
    "ralph = BSTNode('buff8039', 'Ralphie')\n",
    "pyth = BSTNode('pyth2022', 'Guido Von Rossum')\n",
    "marie = BSTNode('macu1234', 'Marie Curie')\n",
    "\n",
    "tree = BST(ralph)\n",
    "tree.insert(pyth)\n",
    "tree.insert(marie)\n",
    "tree.root.keys(), pyth.search('macu1234').data\n",
    "```\n",
    "returns\n",
    "```\n",
    "(['buff8039', 'macu1234', 'pyth2022'], 'Marie Curie')\n",
    "```\n"
   ]
  },
  {
   "cell_type": "code",
   "execution_count": 107,
   "id": "eb80502a-11e9-483e-abd7-17347214ce15",
   "metadata": {},
   "outputs": [],
   "source": [
    "ralph = BSTNode('buff8039', 'Ralphie')\n",
    "pyth = BSTNode('pyth2022', 'Guido Von Rossum')\n",
    "marie = BSTNode('macu1234', 'Marie Curie')\n",
    "\n",
    "tree = BST(ralph)\n",
    "tree.insert(pyth)\n",
    "tree.insert(marie)"
   ]
  },
  {
   "cell_type": "code",
   "execution_count": 108,
   "id": "56c44bce",
   "metadata": {},
   "outputs": [
    {
     "data": {
      "text/plain": [
       "(['buff8039', 'macu1234', 'pyth2022'], 'Marie Curie')"
      ]
     },
     "execution_count": 108,
     "metadata": {},
     "output_type": "execute_result"
    }
   ],
   "source": [
    "tree.root.keys(), pyth.search('macu1234').data"
   ]
  },
  {
   "cell_type": "markdown",
   "id": "58c9acb9-37b0-4cdb-a81d-79d46882494f",
   "metadata": {},
   "source": [
    "Add these `BSTNode` methods:\n",
    "* **`min()`** returns the node corresponding to the smallest key in the tree or subtree. The given node is the root.\n",
    "* **`max()`** returns the node corresponding to the largest key in the tree or subtree. The given node is the root.\n",
    "\n",
    "Add these `BST` methods:\n",
    "* **`successor(node)`** returns the successor to the given node.\n",
    "* **`delete(node)`** deletes a given node from a tree and updates the tree appropriately. No value is returned.\n",
    "  * If the node has no children, the node is deleted.\n",
    "  * If the node has one child, that child replaces the node.\n",
    "  * If the node has two children, the node's successor replaces it.\n"
   ]
  },
  {
   "attachments": {
    "Screen%20Shot%202023-03-09%20at%204.59.04%20PM.png": {
     "image/png": "[encoded data removed]"
    }
   },
   "cell_type": "markdown",
   "id": "10cc92e0",
   "metadata": {},
   "source": [
    "num_tree\n",
    "![Screen%20Shot%202023-03-09%20at%204.59.04%20PM.png](attachment:Screen%20Shot%202023-03-09%20at%204.59.04%20PM.png)"
   ]
  },
  {
   "cell_type": "code",
   "execution_count": 109,
   "id": "727f762c",
   "metadata": {},
   "outputs": [],
   "source": [
    "a = BSTNode(12, '12data')\n",
    "b = BSTNode(5, '5data')\n",
    "c = BSTNode(18, '18data')\n",
    "d = BSTNode(2, '2data')\n",
    "e = BSTNode(9, '9data')\n",
    "f = BSTNode(15, '15data')\n",
    "g = BSTNode(19, '19data')\n",
    "h = BSTNode(13, '13data')\n",
    "i = BSTNode(17, '17data')"
   ]
  },
  {
   "cell_type": "code",
   "execution_count": 110,
   "id": "7047dad1",
   "metadata": {},
   "outputs": [],
   "source": [
    "num_tree = BST(a)\n",
    "num_tree.insert(b)\n",
    "num_tree.insert(c)\n",
    "num_tree.insert(d)\n",
    "num_tree.insert(e)\n",
    "num_tree.insert(f)\n",
    "num_tree.insert(g)\n",
    "num_tree.insert(h)\n",
    "num_tree.insert(i)"
   ]
  },
  {
   "cell_type": "code",
   "execution_count": 111,
   "id": "566ac81f",
   "metadata": {},
   "outputs": [
    {
     "data": {
      "text/plain": [
       "[2, 5, 9, 12, 13, 15, 17, 18, 19]"
      ]
     },
     "execution_count": 111,
     "metadata": {},
     "output_type": "execute_result"
    }
   ],
   "source": [
    "num_tree.root.keys()"
   ]
  },
  {
   "cell_type": "code",
   "execution_count": 112,
   "id": "00fc7963",
   "metadata": {},
   "outputs": [],
   "source": [
    "num_tree.delete(f)"
   ]
  },
  {
   "cell_type": "code",
   "execution_count": 114,
   "id": "ebd5d170",
   "metadata": {},
   "outputs": [
    {
     "data": {
      "text/plain": [
       "17"
      ]
     },
     "execution_count": 114,
     "metadata": {},
     "output_type": "execute_result"
    }
   ],
   "source": [
    "c.left.key"
   ]
  }
 ],
 "metadata": {
  "kernelspec": {
   "display_name": "Python 3 (ipykernel)",
   "language": "python",
   "name": "python3"
  },
  "language_info": {
   "codemirror_mode": {
    "name": "ipython",
    "version": 3
   },
   "file_extension": ".py",
   "mimetype": "text/x-python",
   "name": "python",
   "nbconvert_exporter": "python",
   "pygments_lexer": "ipython3",
   "version": "3.9.12"
  }
 },
 "nbformat": 4,
 "nbformat_minor": 5
}
